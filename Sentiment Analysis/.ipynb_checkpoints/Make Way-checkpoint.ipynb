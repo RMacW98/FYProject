{
 "cells": [
  {
   "cell_type": "code",
   "execution_count": null,
   "metadata": {},
   "outputs": [],
   "source": [
    "    def vizualise_calls(self):\n",
    "        ticker = 'BTC-USD'\n",
    "\n",
    "        price_streamer = PriceStreamer()\n",
    "\n",
    "        btc_price = price_streamer.get_hist_data(ticker)\n",
    "        \"\"\"\n",
    "        vader_buy = []\n",
    "        for i in range(len(btc_price)):\n",
    "            if btc_price.index[i].date() in sentiment_Buy:\n",
    "                vader_buy.append(i)\n",
    "\n",
    "        vader_sell = []\n",
    "        for i in range(len(btc_price)):\n",
    "            if btc_price.index[i].date() in sentiment_Sell:\n",
    "                vader_sell.append(i)\n",
    "        \"\"\"\n",
    "        \n",
    "        plt.figure(figsize=(20, 10),dpi=80)\n",
    "        #plt.plot(btc_price.index, btc_price['Close'],'-^', markevery=vader_buy, ms=15, color='green')\n",
    "        #plt.plot(btc_price.index, btc_price['close'],'-^', ms=15, color='green')\n",
    "        #plt.plot(btc_price.index, btc_price['close'],'-v', ms=15, color='red')\n",
    "        plt.plot(btc_price.index, btc_price['close'])\n",
    "        plt.xlabel('Date',fontsize=14)\n",
    "        plt.ylabel('Price in Dollars', fontsize = 14)\n",
    "        plt.xticks(rotation='60',fontsize=12)\n",
    "        plt.yticks(fontsize=12)\n",
    "        plt.title('Trade Calls - VADER', fontsize = 16)\n",
    "        plt.legend(['Buy','Sell','Close'])\n",
    "        plt.grid()\n",
    "        plt.show() \n",
    "    "
   ]
  },
  {
   "cell_type": "code",
   "execution_count": null,
   "metadata": {},
   "outputs": [],
   "source": []
  }
 ],
 "metadata": {
  "kernelspec": {
   "display_name": "Python 3",
   "language": "python",
   "name": "python3"
  },
  "language_info": {
   "codemirror_mode": {
    "name": "ipython",
    "version": 3
   },
   "file_extension": ".py",
   "mimetype": "text/x-python",
   "name": "python",
   "nbconvert_exporter": "python",
   "pygments_lexer": "ipython3",
   "version": "3.8.3"
  }
 },
 "nbformat": 4,
 "nbformat_minor": 4
}
