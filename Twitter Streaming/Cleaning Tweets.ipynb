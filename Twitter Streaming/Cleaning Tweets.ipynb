{
 "cells": [
  {
   "cell_type": "code",
   "execution_count": 7,
   "metadata": {},
   "outputs": [],
   "source": [
    "import pandas as pd\n",
    "import numpy as np\n",
    "import json\n",
    "import re\n",
    "\n",
    "from textblob import TextBlob"
   ]
  },
  {
   "cell_type": "code",
   "execution_count": 8,
   "metadata": {},
   "outputs": [],
   "source": [
    "class TweetCleaner():\n",
    "    \"\"\"\n",
    "    Functionality for analyzing and categorizing content from tweets.\n",
    "    \"\"\"\n",
    "\n",
    "    def clean_tweet(self, tweet):\n",
    "        return ' '.join(re.sub(\"(@[A-Za-z0-9]+)|([^0-9A-Za-z \\t])|(\\w+:\\/\\/\\S+)\", \" \", tweet).split())\n",
    "    \n",
    "    def create_tweet(self, df, df_user):\n",
    "        df['name'] = df_user.name\n",
    "    \n",
    "        tweets = df[['id','created_at','name', 'text', 'truncated', 'reply_count', 'retweet_count', 'favorite_count', 'retweeted']]\n",
    "        users = df_user[['name', 'description', 'verified', 'followers_count', 'statuses_count']]\n",
    "        \n",
    "        return tweets, users"
   ]
  },
  {
   "cell_type": "code",
   "execution_count": 9,
   "metadata": {},
   "outputs": [
    {
     "name": "stderr",
     "output_type": "stream",
     "text": [
      "<ipython-input-9-4cc7ccc1ef3f>:12: SettingWithCopyWarning: \n",
      "A value is trying to be set on a copy of a slice from a DataFrame.\n",
      "Try using .loc[row_indexer,col_indexer] = value instead\n",
      "\n",
      "See the caveats in the documentation: https://pandas.pydata.org/pandas-docs/stable/user_guide/indexing.html#returning-a-view-versus-a-copy\n",
      "  tweets['clean_text'] = pd.Series(clean_tweets, index=tweets.index)\n"
     ]
    }
   ],
   "source": [
    "if __name__ == '__main__':\n",
    "    fetched_tweets_filename = r'C:\\Users\\RMacW\\Documents\\College\\Year 4\\FYP\\Twitter Streaming\\tweets.json'\n",
    "    \n",
    "    tweet_cleaner = TweetCleaner()\n",
    "\n",
    "    df = pd.read_json(fetched_tweets_filename, lines=True)\n",
    "    df_user = pd.json_normalize(df.user)\n",
    "    \n",
    "    tweets, users= tweet_cleaner.create_tweet(df, df_user)\n",
    "\n",
    "    clean_tweets = np.array([tweet_cleaner.clean_tweet(tweet) for tweet in tweets['text']])\n",
    "    tweets['clean_text'] = pd.Series(clean_tweets, index=tweets.index)\n",
    "    \n",
    "    tweets.to_csv(r'C:\\Users\\RMacW\\Documents\\College\\Year 4\\FYP\\Twitter Streaming\\cleaned_tweets.csv', index=False)\n",
    "    users.to_csv(r'C:\\Users\\RMacW\\Documents\\College\\Year 4\\FYP\\Twitter Streaming\\users.csv', index=False)"
   ]
  }
 ],
 "metadata": {
  "kernelspec": {
   "display_name": "Python 3",
   "language": "python",
   "name": "python3"
  },
  "language_info": {
   "codemirror_mode": {
    "name": "ipython",
    "version": 3
   },
   "file_extension": ".py",
   "mimetype": "text/x-python",
   "name": "python",
   "nbconvert_exporter": "python",
   "pygments_lexer": "ipython3",
   "version": "3.8.3"
  }
 },
 "nbformat": 4,
 "nbformat_minor": 4
}
