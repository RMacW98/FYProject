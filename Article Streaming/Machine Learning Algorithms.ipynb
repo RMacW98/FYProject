{
 "cells": [
  {
   "cell_type": "code",
   "execution_count": 1,
   "metadata": {},
   "outputs": [],
   "source": [
    "# Import modules and packages\n",
    "import numpy as np\n",
    "import pandas as pd\n",
    "import matplotlib.pyplot as plt\n",
    "import datetime as dt\n",
    "from datetime import datetime, timedelta\n",
    "import shrimpy\n",
    "import psycopg2\n",
    "from keras.callbacks import EarlyStopping, ReduceLROnPlateau, ModelCheckpoint, TensorBoard\n",
    "\n",
    "#implement linear regression\n",
    "from sklearn.linear_model import LinearRegression\n",
    "\n",
    "#importing libraries\n",
    "from sklearn import neighbors\n",
    "from sklearn.model_selection import GridSearchCV\n",
    "from sklearn.preprocessing import MinMaxScaler\n",
    "\n",
    "#importing required libraries\n",
    "from sklearn.preprocessing import MinMaxScaler\n",
    "from keras.models import Sequential\n",
    "from keras.layers import Dense, Dropout, LSTM"
   ]
  },
  {
   "cell_type": "code",
   "execution_count": 2,
   "metadata": {},
   "outputs": [],
   "source": [
    "class DatabaseClient:\n",
    "    \"\"\"\n",
    "    Functionality for inserting and reading from the database\n",
    "    \"\"\"\n",
    "\n",
    "    def __init__(self):\n",
    "        # Connect to db\n",
    "        self.con = psycopg2.connect(\n",
    "            host='localhost',\n",
    "            database='postgres',\n",
    "            user='postgres',\n",
    "            password='postgres'\n",
    "        )\n",
    "        self.article_table = pd.DataFrame()\n",
    "\n",
    "    def read_db(self):\n",
    "        cur = self.con.cursor()\n",
    "\n",
    "        cur.execute(\"SELECT timestamp, comp_sentiment, sma, ema FROM sent_values WHERE timestamp > '2021-01-26 15:00:00'::timestamp;\")\n",
    "\n",
    "        rows = cur.fetchall()\n",
    "\n",
    "        self.article_table = pd.DataFrame(data=rows, columns=['timestamp','compound','sma','ema'])\n",
    "\n",
    "\n",
    "        return self.article_table"
   ]
  },
  {
   "cell_type": "code",
   "execution_count": 3,
   "metadata": {},
   "outputs": [],
   "source": [
    "def get_latest_prices(trading_symbol):\n",
    "    public_key = '12326758a39a720e15d064cab3c1f0a9332d107de453bd41926bb3acd565059e'\n",
    "    secret_key = '6991cf4c9b518293429db0df6085d1731074bed8abccd7f0279a52fac5b0c1a8a2f6d28e11a50fbb1c6575d1407e637f9ad7c73fbddfa87c5d418fd58971f829'\n",
    "    \n",
    "    client = shrimpy.ShrimpyApiClient(public_key, secret_key)\n",
    "        \n",
    "    # get the candles for historical values\n",
    "    candles = client.get_candles(\n",
    "        'binance',  # exchange\n",
    "        trading_symbol,      # base_trading_symbol\n",
    "        'USDT',      # quote_trading_symbol\n",
    "        '1h'       # interval\n",
    "    )\n",
    "        \n",
    "    # Set the dataframe between these two dates\n",
    "    tomorrows_date = (datetime.today() - timedelta(hours=1)).strftime(\"%Y-%m-%d %H:00\")\n",
    "    tomorrows_date = (datetime.today()).strftime(\"%Y-%m-%d %H:00\")\n",
    "    starting_date = '2021-01-25 02:00:00'\n",
    "\n",
    "    # Put pulled cryptocurrency values into a dataframe and set dates\n",
    "    prices_df = pd.DataFrame(candles)\n",
    "    prices_df['time'] = pd.to_datetime(prices_df['time'], infer_datetime_format=True).dt.tz_localize(None)\n",
    "\n",
    "    latest_prices = prices_df[(prices_df['time'] > starting_date) & (prices_df['time'] <tomorrows_date)]\n",
    "    latest_prices['close'] = latest_prices['close'].astype('float64')\n",
    "\n",
    "    return latest_prices"
   ]
  },
  {
   "cell_type": "code",
   "execution_count": 4,
   "metadata": {},
   "outputs": [
    {
     "name": "stderr",
     "output_type": "stream",
     "text": [
      "<ipython-input-3-b1d27c6bb073>:25: SettingWithCopyWarning: \n",
      "A value is trying to be set on a copy of a slice from a DataFrame.\n",
      "Try using .loc[row_indexer,col_indexer] = value instead\n",
      "\n",
      "See the caveats in the documentation: https://pandas.pydata.org/pandas-docs/stable/user_guide/indexing.html#returning-a-view-versus-a-copy\n",
      "  latest_prices['close'] = latest_prices['close'].astype('float64')\n"
     ]
    }
   ],
   "source": [
    "database_client = DatabaseClient()\n",
    "df = database_client.read_db()\n",
    "df.index = df.timestamp\n",
    "df = df.iloc[:-1]\n",
    "\n",
    "data = get_latest_prices('BTC')\n",
    "data.index = data.time\n",
    "data = data.iloc[:-4]\n",
    "\n",
    "dataset_train = data.join(df, lsuffix=data.index, rsuffix=df.index)\n",
    "\n",
    "comp_df = dataset_train[['close', 'compound']]\n",
    "comp_df = comp_df.astype('float')\n",
    "#comp_df.to_csv('/bitcoin_price.csv')\n",
    "\n",
    "dataset_train = dataset_train.drop(columns=['open', 'high', 'low', 'volume', 'quoteVolume', 'btcVolume', 'usdVolume','time','timestamp','compound'])\n",
    "dataset_train = dataset_train.dropna()\n",
    "dataset_train = dataset_train.astype('float')"
   ]
  },
  {
   "cell_type": "markdown",
   "metadata": {},
   "source": [
    "# Data Preprocessing"
   ]
  },
  {
   "cell_type": "code",
   "execution_count": 72,
   "metadata": {},
   "outputs": [
    {
     "data": {
      "text/plain": [
       "LinearRegression()"
      ]
     },
     "execution_count": 72,
     "metadata": {},
     "output_type": "execute_result"
    }
   ],
   "source": [
    "#split into train and validation\n",
    "train = dataset_train[:750]\n",
    "valid = dataset_train[750:]\n",
    "\n",
    "x_train = train.drop('close', axis=1)\n",
    "y_train = train['close']\n",
    "x_valid = valid.drop('close', axis=1)\n",
    "y_valid = valid['close']\n",
    "\n",
    "model = LinearRegression()\n",
    "model.fit(x_train,y_train)"
   ]
  },
  {
   "cell_type": "code",
   "execution_count": 73,
   "metadata": {},
   "outputs": [
    {
     "data": {
      "text/plain": [
       "6827.278396038822"
      ]
     },
     "execution_count": 73,
     "metadata": {},
     "output_type": "execute_result"
    }
   ],
   "source": [
    "#make predictions and find the rmse\n",
    "preds = model.predict(x_valid)\n",
    "lr_rms=np.sqrt(np.mean(np.power((np.array(y_valid)-np.array(preds)),2)))\n",
    "lr_rms"
   ]
  },
  {
   "cell_type": "code",
   "execution_count": 74,
   "metadata": {},
   "outputs": [
    {
     "name": "stderr",
     "output_type": "stream",
     "text": [
      "<ipython-input-74-5698932f743b>:2: SettingWithCopyWarning: \n",
      "A value is trying to be set on a copy of a slice from a DataFrame.\n",
      "Try using .loc[row_indexer,col_indexer] = value instead\n",
      "\n",
      "See the caveats in the documentation: https://pandas.pydata.org/pandas-docs/stable/user_guide/indexing.html#returning-a-view-versus-a-copy\n",
      "  valid['Predictions'] = 0\n",
      "<ipython-input-74-5698932f743b>:3: SettingWithCopyWarning: \n",
      "A value is trying to be set on a copy of a slice from a DataFrame.\n",
      "Try using .loc[row_indexer,col_indexer] = value instead\n",
      "\n",
      "See the caveats in the documentation: https://pandas.pydata.org/pandas-docs/stable/user_guide/indexing.html#returning-a-view-versus-a-copy\n",
      "  valid['Predictions'] = preds\n"
     ]
    },
    {
     "data": {
      "text/plain": [
       "<matplotlib.legend.Legend at 0x222d89cd760>"
      ]
     },
     "execution_count": 74,
     "metadata": {},
     "output_type": "execute_result"
    },
    {
     "data": {
      "image/png": "[encoded data removed]",
      "text/plain": [
       "<Figure size 432x288 with 1 Axes>"
      ]
     },
     "metadata": {
      "needs_background": "light"
     },
     "output_type": "display_data"
    }
   ],
   "source": [
    "#plot\n",
    "valid['Predictions'] = 0\n",
    "valid['Predictions'] = preds\n",
    "\n",
    "valid.index = dataset_train[750:].index\n",
    "train.index = dataset_train[:750].index\n",
    "\n",
    "plt.plot(train['close'])\n",
    "plt.plot(valid[['close', 'Predictions']])\n",
    "\n",
    "plt.legend(labels=['Training Price', 'Actual Price', 'Predicted Price'])"
   ]
  },
  {
   "cell_type": "code",
   "execution_count": 75,
   "metadata": {},
   "outputs": [
    {
     "name": "stdout",
     "output_type": "stream",
     "text": [
      "Accuracy: 0\n"
     ]
    }
   ],
   "source": [
    "preds=np.round(sigmoid(test_scores)) #convert score to 0 or 1\n",
    "from sklearn.metrics import accuracy_score\n",
    "print(\"Accuracy: \"+str(accuracy_score(preds, y_valid.round(), normalize=False)))"
   ]
  },
  {
   "cell_type": "markdown",
   "metadata": {},
   "source": [
    "# K Nearest Neighbour"
   ]
  },
  {
   "cell_type": "code",
   "execution_count": 549,
   "metadata": {},
   "outputs": [],
   "source": [
    "scaler = MinMaxScaler(feature_range=(0, 1))\n",
    "\n",
    "#split into train and validation\n",
    "train = dataset_train[:750]\n",
    "valid = dataset_train[750:]\n",
    "\n",
    "x_train = train.drop('close', axis=1)\n",
    "y_train = train['close']\n",
    "x_valid = valid.drop('close', axis=1)\n",
    "y_valid = valid['close']"
   ]
  },
  {
   "cell_type": "code",
   "execution_count": 550,
   "metadata": {},
   "outputs": [],
   "source": [
    "#scaling data\n",
    "x_train_scaled = scaler.fit_transform(x_train)\n",
    "x_train = pd.DataFrame(x_train_scaled)\n",
    "x_valid_scaled = scaler.fit_transform(x_valid)\n",
    "x_valid = pd.DataFrame(x_valid_scaled)\n",
    "\n",
    "#using gridsearch to find the best parameter\n",
    "params = {'n_neighbors':[2,3,4,5,6,7,8,9]}\n",
    "knn = neighbors.KNeighborsRegressor()\n",
    "model = GridSearchCV(knn, params, cv=5)\n",
    "\n",
    "#fit the model and make predictions\n",
    "model.fit(x_train,y_train)\n",
    "preds = model.predict(x_valid)"
   ]
  },
  {
   "cell_type": "code",
   "execution_count": 551,
   "metadata": {},
   "outputs": [
    {
     "data": {
      "text/plain": [
       "6945.997494207722"
      ]
     },
     "execution_count": 551,
     "metadata": {},
     "output_type": "execute_result"
    }
   ],
   "source": [
    "#rmse\n",
    "knn_rms=np.sqrt(np.mean(np.power((np.array(y_valid)-np.array(preds)),2)))\n",
    "knn_rms"
   ]
  },
  {
   "cell_type": "code",
   "execution_count": 553,
   "metadata": {},
   "outputs": [
    {
     "name": "stderr",
     "output_type": "stream",
     "text": [
      "<ipython-input-553-1945932430b5>:2: SettingWithCopyWarning: \n",
      "A value is trying to be set on a copy of a slice from a DataFrame.\n",
      "Try using .loc[row_indexer,col_indexer] = value instead\n",
      "\n",
      "See the caveats in the documentation: https://pandas.pydata.org/pandas-docs/stable/user_guide/indexing.html#returning-a-view-versus-a-copy\n",
      "  valid['Predictions'] = 0\n",
      "<ipython-input-553-1945932430b5>:3: SettingWithCopyWarning: \n",
      "A value is trying to be set on a copy of a slice from a DataFrame.\n",
      "Try using .loc[row_indexer,col_indexer] = value instead\n",
      "\n",
      "See the caveats in the documentation: https://pandas.pydata.org/pandas-docs/stable/user_guide/indexing.html#returning-a-view-versus-a-copy\n",
      "  valid['Predictions'] = preds\n"
     ]
    },
    {
     "data": {
      "text/plain": [
       "<matplotlib.legend.Legend at 0x1f0662e22e0>"
      ]
     },
     "execution_count": 553,
     "metadata": {},
     "output_type": "execute_result"
    },
    {
     "data": {
      "image/png": "[encoded data removed]",
      "text/plain": [
       "<Figure size 1008x360 with 1 Axes>"
      ]
     },
     "metadata": {
      "needs_background": "light"
     },
     "output_type": "display_data"
    }
   ],
   "source": [
    "#plot\n",
    "valid['Predictions'] = 0\n",
    "valid['Predictions'] = preds\n",
    "plt.plot(train['close'])\n",
    "plt.plot(valid[['close', 'Predictions']])\n",
    "\n",
    "plt.legend(labels=['Training Price', 'Actual Price', 'Predicted Price'])"
   ]
  },
  {
   "cell_type": "markdown",
   "metadata": {},
   "source": [
    "# Standard LSTM"
   ]
  },
  {
   "cell_type": "code",
   "execution_count": 460,
   "metadata": {},
   "outputs": [
    {
     "name": "stdout",
     "output_type": "stream",
     "text": [
      "Epoch 1/10\n",
      "690/690 - 11s - loss: 0.0057\n",
      "Epoch 2/10\n",
      "690/690 - 8s - loss: 0.0021\n",
      "Epoch 3/10\n",
      "690/690 - 9s - loss: 0.0015\n",
      "Epoch 4/10\n",
      "690/690 - 8s - loss: 0.0015\n",
      "Epoch 5/10\n",
      "690/690 - 8s - loss: 0.0012\n",
      "Epoch 6/10\n",
      "690/690 - 7s - loss: 9.9302e-04\n",
      "Epoch 7/10\n",
      "690/690 - 8s - loss: 9.7987e-04\n",
      "Epoch 8/10\n",
      "690/690 - 7s - loss: 0.0011\n",
      "Epoch 9/10\n",
      "690/690 - 7s - loss: 9.0922e-04\n",
      "Epoch 10/10\n",
      "690/690 - 7s - loss: 8.9241e-04\n",
      "WARNING:tensorflow:5 out of the last 11 calls to <function Model.make_predict_function.<locals>.predict_function at 0x000001F041946280> triggered tf.function retracing. Tracing is expensive and the excessive number of tracings could be due to (1) creating @tf.function repeatedly in a loop, (2) passing tensors with different shapes, (3) passing Python objects instead of tensors. For (1), please define your @tf.function outside of the loop. For (2), @tf.function has experimental_relax_shapes=True option that relaxes argument shapes that can avoid unnecessary retracing. For (3), please refer to https://www.tensorflow.org/guide/function#controlling_retracing and https://www.tensorflow.org/api_docs/python/tf/function for  more details.\n"
     ]
    }
   ],
   "source": [
    "#creating dataframe\n",
    "data = dataset_train.sort_index(ascending=True, axis=0)\n",
    "new_data = pd.DataFrame(index=range(0,len(dataset_train)),columns=['Date', 'Close'])\n",
    "for i in range(0,len(dataset_train)):\n",
    "    new_data['Date'][i] = dataset_train.index[i]\n",
    "    new_data['Close'][i] = dataset_train['close'][i]\n",
    "\n",
    "#setting index\n",
    "new_data.index = new_data.Date\n",
    "new_data.drop('Date', axis=1, inplace=True)\n",
    "\n",
    "#creating train and test sets\n",
    "dataset = new_data.values\n",
    "\n",
    "train = dataset[0:750,:]\n",
    "valid = dataset[750:,:]\n",
    "\n",
    "#converting dataset into x_train and y_train\n",
    "scaler = MinMaxScaler(feature_range=(0, 1))\n",
    "scaled_data = scaler.fit_transform(dataset)\n",
    "\n",
    "x_train, y_train = [], []\n",
    "for i in range(60,len(train)):\n",
    "    x_train.append(scaled_data[i-60:i,0])\n",
    "    y_train.append(scaled_data[i,0])\n",
    "x_train, y_train = np.array(x_train), np.array(y_train)\n",
    "\n",
    "x_train = np.reshape(x_train, (x_train.shape[0],x_train.shape[1],1))\n",
    "\n",
    "# create and fit the LSTM network\n",
    "model = Sequential()\n",
    "model.add(LSTM(units=50, return_sequences=True, input_shape=(x_train.shape[1],1)))\n",
    "model.add(LSTM(units=50))\n",
    "model.add(Dense(1))\n",
    "\n",
    "model.compile(loss='mean_squared_error', optimizer='adam')\n",
    "model.fit(x_train, y_train, epochs=10, batch_size=1, verbose=2)\n",
    "\n",
    "#predicting 246 values, using past 60 from the train data\n",
    "inputs = new_data[len(new_data) - len(valid) - 60:].values\n",
    "inputs = inputs.reshape(-1,1)\n",
    "inputs  = scaler.transform(inputs)\n",
    "\n",
    "X_test = []\n",
    "for i in range(60,inputs.shape[0]):\n",
    "    X_test.append(inputs[i-60:i,0])\n",
    "X_test = np.array(X_test)\n",
    "\n",
    "X_test = np.reshape(X_test, (X_test.shape[0],X_test.shape[1],1))\n",
    "closing_price = model.predict(X_test)\n",
    "closing_price = scaler.inverse_transform(closing_price)"
   ]
  },
  {
   "cell_type": "code",
   "execution_count": 461,
   "metadata": {},
   "outputs": [
    {
     "data": {
      "text/plain": [
       "551.0570863810728"
      ]
     },
     "execution_count": 461,
     "metadata": {},
     "output_type": "execute_result"
    }
   ],
   "source": [
    "lstm_rms=np.sqrt(np.mean(np.power((valid-closing_price),2)))\n",
    "lstm_rms"
   ]
  },
  {
   "cell_type": "code",
   "execution_count": 462,
   "metadata": {},
   "outputs": [
    {
     "name": "stderr",
     "output_type": "stream",
     "text": [
      "<ipython-input-462-025710875cb5>:4: SettingWithCopyWarning: \n",
      "A value is trying to be set on a copy of a slice from a DataFrame.\n",
      "Try using .loc[row_indexer,col_indexer] = value instead\n",
      "\n",
      "See the caveats in the documentation: https://pandas.pydata.org/pandas-docs/stable/user_guide/indexing.html#returning-a-view-versus-a-copy\n",
      "  valid['Predictions'] = closing_price\n"
     ]
    },
    {
     "data": {
      "text/plain": [
       "<matplotlib.legend.Legend at 0x1f04297dd90>"
      ]
     },
     "execution_count": 462,
     "metadata": {},
     "output_type": "execute_result"
    },
    {
     "data": {
      "image/png": "[encoded data removed]",
      "text/plain": [
       "<Figure size 1008x360 with 1 Axes>"
      ]
     },
     "metadata": {
      "needs_background": "light"
     },
     "output_type": "display_data"
    }
   ],
   "source": [
    "#for plotting\n",
    "train = new_data[:750]\n",
    "valid = new_data[750:]\n",
    "valid['Predictions'] = closing_price\n",
    "plt.plot(train['Close'])\n",
    "plt.plot(valid[['Close','Predictions']])\n",
    "\n",
    "plt.legend(labels=['Training Price', 'Actual Price', 'Predicted Price'])"
   ]
  },
  {
   "cell_type": "markdown",
   "metadata": {},
   "source": [
    "# Multivariate LSTM"
   ]
  },
  {
   "cell_type": "code",
   "execution_count": 5,
   "metadata": {
    "scrolled": true
   },
   "outputs": [
    {
     "name": "stdout",
     "output_type": "stream",
     "text": [
      "Epoch 1/50\n",
      "590/590 - 13s - loss: 0.0070 - accuracy: 0.0034 - val_loss: 0.0052 - val_accuracy: 0.0054\n",
      "Epoch 2/50\n",
      "590/590 - 7s - loss: 0.0031 - accuracy: 0.0034 - val_loss: 0.0048 - val_accuracy: 0.0054\n",
      "Epoch 3/50\n",
      "590/590 - 8s - loss: 0.0026 - accuracy: 0.0034 - val_loss: 0.0030 - val_accuracy: 0.0054\n",
      "Epoch 4/50\n",
      "590/590 - 8s - loss: 0.0022 - accuracy: 0.0034 - val_loss: 0.0027 - val_accuracy: 0.0054\n",
      "Epoch 5/50\n",
      "590/590 - 7s - loss: 0.0019 - accuracy: 0.0034 - val_loss: 0.0026 - val_accuracy: 0.0054\n",
      "Epoch 6/50\n",
      "590/590 - 7s - loss: 0.0020 - accuracy: 0.0034 - val_loss: 0.0020 - val_accuracy: 0.0054\n",
      "Epoch 7/50\n",
      "590/590 - 7s - loss: 0.0017 - accuracy: 0.0034 - val_loss: 0.0023 - val_accuracy: 0.0054\n",
      "Epoch 8/50\n",
      "590/590 - 7s - loss: 0.0016 - accuracy: 0.0034 - val_loss: 0.0019 - val_accuracy: 0.0054\n",
      "Epoch 9/50\n",
      "590/590 - 7s - loss: 0.0018 - accuracy: 0.0034 - val_loss: 0.0021 - val_accuracy: 0.0054\n",
      "Epoch 10/50\n",
      "590/590 - 8s - loss: 0.0015 - accuracy: 0.0034 - val_loss: 0.0023 - val_accuracy: 0.0054\n",
      "Epoch 11/50\n",
      "590/590 - 8s - loss: 0.0016 - accuracy: 0.0034 - val_loss: 0.0021 - val_accuracy: 0.0054\n",
      "Epoch 12/50\n",
      "590/590 - 7s - loss: 0.0017 - accuracy: 0.0034 - val_loss: 0.0020 - val_accuracy: 0.0054\n",
      "Epoch 13/50\n",
      "590/590 - 7s - loss: 0.0016 - accuracy: 0.0034 - val_loss: 0.0022 - val_accuracy: 0.0054\n",
      "Epoch 14/50\n",
      "590/590 - 8s - loss: 0.0015 - accuracy: 0.0034 - val_loss: 0.0025 - val_accuracy: 0.0054\n",
      "Epoch 15/50\n",
      "590/590 - 8s - loss: 0.0014 - accuracy: 0.0034 - val_loss: 0.0025 - val_accuracy: 0.0054\n",
      "Epoch 16/50\n",
      "590/590 - 7s - loss: 0.0014 - accuracy: 0.0034 - val_loss: 0.0019 - val_accuracy: 0.0054\n",
      "Epoch 17/50\n",
      "590/590 - 7s - loss: 0.0014 - accuracy: 0.0034 - val_loss: 0.0020 - val_accuracy: 0.0054\n",
      "Epoch 18/50\n",
      "590/590 - 8s - loss: 0.0015 - accuracy: 0.0034 - val_loss: 0.0021 - val_accuracy: 0.0054\n",
      "Epoch 19/50\n",
      "590/590 - 8s - loss: 0.0016 - accuracy: 0.0034 - val_loss: 0.0019 - val_accuracy: 0.0054\n",
      "Epoch 20/50\n",
      "590/590 - 8s - loss: 0.0014 - accuracy: 0.0034 - val_loss: 0.0021 - val_accuracy: 0.0054\n",
      "Epoch 21/50\n",
      "590/590 - 7s - loss: 0.0015 - accuracy: 0.0034 - val_loss: 0.0020 - val_accuracy: 0.0054\n",
      "Epoch 22/50\n",
      "590/590 - 7s - loss: 0.0014 - accuracy: 0.0034 - val_loss: 0.0019 - val_accuracy: 0.0054\n",
      "Epoch 23/50\n",
      "590/590 - 7s - loss: 0.0015 - accuracy: 0.0034 - val_loss: 0.0019 - val_accuracy: 0.0054\n",
      "Epoch 24/50\n",
      "590/590 - 7s - loss: 0.0014 - accuracy: 0.0034 - val_loss: 0.0025 - val_accuracy: 0.0054\n",
      "Epoch 25/50\n",
      "590/590 - 7s - loss: 0.0014 - accuracy: 0.0034 - val_loss: 0.0019 - val_accuracy: 0.0054\n",
      "Epoch 26/50\n",
      "590/590 - 8s - loss: 0.0014 - accuracy: 0.0034 - val_loss: 0.0028 - val_accuracy: 0.0054\n",
      "Epoch 27/50\n",
      "590/590 - 8s - loss: 0.0014 - accuracy: 0.0034 - val_loss: 0.0026 - val_accuracy: 0.0054\n",
      "Epoch 28/50\n",
      "590/590 - 8s - loss: 0.0014 - accuracy: 0.0034 - val_loss: 0.0019 - val_accuracy: 0.0054\n",
      "Epoch 29/50\n",
      "590/590 - 7s - loss: 0.0014 - accuracy: 0.0034 - val_loss: 0.0021 - val_accuracy: 0.0054\n",
      "Epoch 30/50\n",
      "590/590 - 7s - loss: 0.0015 - accuracy: 0.0034 - val_loss: 0.0019 - val_accuracy: 0.0054\n",
      "Epoch 31/50\n",
      "590/590 - 7s - loss: 0.0014 - accuracy: 0.0034 - val_loss: 0.0019 - val_accuracy: 0.0054\n",
      "Epoch 32/50\n",
      "590/590 - 7s - loss: 0.0014 - accuracy: 0.0034 - val_loss: 0.0022 - val_accuracy: 0.0054\n",
      "Epoch 33/50\n",
      "590/590 - 7s - loss: 0.0013 - accuracy: 0.0034 - val_loss: 0.0019 - val_accuracy: 0.0054\n",
      "Epoch 34/50\n",
      "590/590 - 9s - loss: 0.0013 - accuracy: 0.0034 - val_loss: 0.0025 - val_accuracy: 0.0054\n",
      "Epoch 35/50\n",
      "590/590 - 9s - loss: 0.0013 - accuracy: 0.0034 - val_loss: 0.0020 - val_accuracy: 0.0054\n",
      "Epoch 36/50\n",
      "590/590 - 7s - loss: 0.0013 - accuracy: 0.0034 - val_loss: 0.0019 - val_accuracy: 0.0054\n",
      "Epoch 37/50\n",
      "590/590 - 8s - loss: 0.0013 - accuracy: 0.0034 - val_loss: 0.0021 - val_accuracy: 0.0054\n",
      "Epoch 38/50\n",
      "590/590 - 7s - loss: 0.0013 - accuracy: 0.0034 - val_loss: 0.0027 - val_accuracy: 0.0054\n",
      "Epoch 39/50\n",
      "590/590 - 7s - loss: 0.0014 - accuracy: 0.0034 - val_loss: 0.0019 - val_accuracy: 0.0054\n",
      "Epoch 40/50\n",
      "590/590 - 7s - loss: 0.0014 - accuracy: 0.0034 - val_loss: 0.0020 - val_accuracy: 0.0054\n",
      "Epoch 41/50\n",
      "590/590 - 8s - loss: 0.0014 - accuracy: 0.0034 - val_loss: 0.0021 - val_accuracy: 0.0054\n",
      "Epoch 42/50\n",
      "590/590 - 8s - loss: 0.0013 - accuracy: 0.0034 - val_loss: 0.0019 - val_accuracy: 0.0054\n",
      "Epoch 43/50\n",
      "590/590 - 9s - loss: 0.0014 - accuracy: 0.0034 - val_loss: 0.0019 - val_accuracy: 0.0054\n",
      "Epoch 44/50\n",
      "590/590 - 10s - loss: 0.0013 - accuracy: 0.0034 - val_loss: 0.0019 - val_accuracy: 0.0054\n",
      "Epoch 45/50\n",
      "590/590 - 10s - loss: 0.0014 - accuracy: 0.0034 - val_loss: 0.0020 - val_accuracy: 0.0054\n",
      "Epoch 46/50\n",
      "590/590 - 10s - loss: 0.0013 - accuracy: 0.0034 - val_loss: 0.0021 - val_accuracy: 0.0054\n",
      "Epoch 47/50\n",
      "590/590 - 11s - loss: 0.0013 - accuracy: 0.0034 - val_loss: 0.0021 - val_accuracy: 0.0054\n",
      "Epoch 48/50\n",
      "590/590 - 13s - loss: 0.0013 - accuracy: 0.0034 - val_loss: 0.0020 - val_accuracy: 0.0054\n",
      "Epoch 49/50\n",
      "590/590 - 13s - loss: 0.0013 - accuracy: 0.0034 - val_loss: 0.0019 - val_accuracy: 0.0054\n",
      "Epoch 50/50\n",
      "590/590 - 11s - loss: 0.0013 - accuracy: 0.0034 - val_loss: 0.0021 - val_accuracy: 0.0054\n",
      "[0.0070036668330430984, 0.0031201078090816736, 0.0026488290168344975, 0.002201549941673875, 0.001912374165840447, 0.001957530854269862, 0.0017190625658258796, 0.0015530355740338564, 0.001755452947691083, 0.0015233190497383475, 0.0015589739196002483, 0.0017235446721315384, 0.001582927769050002, 0.0015123063931241632, 0.0014331372221931815, 0.001417315797880292, 0.0013770831283181906, 0.001519189216196537, 0.0015612466959282756, 0.0014245710335671902, 0.0015437831170856953, 0.0014065547147765756, 0.001509941997937858, 0.0014310851693153381, 0.001374883227981627, 0.0013757386477664113, 0.0013861381448805332, 0.001389723620377481, 0.0013658780371770263, 0.0014514690265059471, 0.0014383622910827398, 0.001364860450848937, 0.0013399936724454165, 0.0012741577811539173, 0.0013102112570777535, 0.0013217790983617306, 0.0013213135534897447, 0.0013321870937943459, 0.0013865064829587936, 0.0013821395114064217, 0.0013589393347501755, 0.0012884173775091767, 0.0013625790597870946, 0.0013072640867903829, 0.0013856099685654044, 0.0013497421750798821, 0.0013061147183179855, 0.0012728587025776505, 0.0013138138456270099, 0.001306904130615294]\n",
      "[0.003389830468222499, 0.003389830468222499, 0.003389830468222499, 0.003389830468222499, 0.003389830468222499, 0.003389830468222499, 0.003389830468222499, 0.003389830468222499, 0.003389830468222499, 0.003389830468222499, 0.003389830468222499, 0.003389830468222499, 0.003389830468222499, 0.003389830468222499, 0.003389830468222499, 0.003389830468222499, 0.003389830468222499, 0.003389830468222499, 0.003389830468222499, 0.003389830468222499, 0.003389830468222499, 0.003389830468222499, 0.003389830468222499, 0.003389830468222499, 0.003389830468222499, 0.003389830468222499, 0.003389830468222499, 0.003389830468222499, 0.003389830468222499, 0.003389830468222499, 0.003389830468222499, 0.003389830468222499, 0.003389830468222499, 0.003389830468222499, 0.003389830468222499, 0.003389830468222499, 0.003389830468222499, 0.003389830468222499, 0.003389830468222499, 0.003389830468222499, 0.003389830468222499, 0.003389830468222499, 0.003389830468222499, 0.003389830468222499, 0.003389830468222499, 0.003389830468222499, 0.003389830468222499, 0.003389830468222499, 0.003389830468222499, 0.003389830468222499]\n"
     ]
    }
   ],
   "source": [
    "#creating dataframe\n",
    "data = dataset_train.sort_index(ascending=True, axis=0)\n",
    "new_data = pd.DataFrame(index=range(0,len(dataset_train)),columns=['Date', 'Close', 'Compound'])\n",
    "for i in range(0,len(dataset_train)):\n",
    "    new_data['Date'][i] = df.index[i]\n",
    "    new_data['Close'][i] = comp_df['close'][i]\n",
    "    new_data['Compound'][i] = comp_df['compound'][i]\n",
    "\n",
    "#setting index\n",
    "new_data.index = new_data.Date\n",
    "new_data.drop('Date', axis=1, inplace=True)\n",
    "\n",
    "#creating train and test sets\n",
    "dataset = new_data.values.astype('float')\n",
    "\n",
    "train = dataset[0:650,:]\n",
    "valid = dataset[650:,:]\n",
    "\n",
    "sc_train = MinMaxScaler(feature_range = (0, 1))\n",
    "training_set_scaled = sc_train.fit_transform(train)\n",
    "X_train = []\n",
    "y_train = []\n",
    "for i in range(60, len(train)):\n",
    "    X_train.append(training_set_scaled[i-60:i, 0])\n",
    "    y_train.append(training_set_scaled[i, 0]) \n",
    "X_train, y_train = np.array(X_train), np.array(y_train)\n",
    "X_train = np.reshape(X_train, (X_train.shape[0], X_train.shape[1], 1))\n",
    "\n",
    "sc_valid = MinMaxScaler(feature_range = (0, 1))\n",
    "valid_set_scaled = sc_valid.fit_transform(valid)\n",
    "X_valid = []\n",
    "y_valid = []\n",
    "for i in range(60, len(valid)):\n",
    "    X_valid.append(valid_set_scaled[i-60:i, 0])\n",
    "    y_valid.append(valid_set_scaled[i, 0]) \n",
    "X_valid, y_valid = np.array(X_valid), np.array(y_valid)\n",
    "X_valid = np.reshape(X_valid, (X_valid.shape[0], X_valid.shape[1], 1))\n",
    "\n",
    "\n",
    "\n",
    "# create and fit the LSTM network\n",
    "model = Sequential()\n",
    "model.add(LSTM(units=50, return_sequences=True, input_shape=(X_train.shape[1],1)))\n",
    "model.add(LSTM(units=50))\n",
    "model.add(Dense(1))\n",
    "\n",
    "model.compile(loss='mean_squared_error', optimizer='adam', metrics=['accuracy'])\n",
    "history = model.fit(X_train, y_train, epochs=50, validation_data=(X_valid, y_valid), batch_size=1, verbose=2)\n",
    "\n",
    "print(history.history['loss'])\n",
    "print(history.history['accuracy'])"
   ]
  },
  {
   "cell_type": "code",
   "execution_count": 6,
   "metadata": {},
   "outputs": [],
   "source": [
    "#predicting 246 values, using past 60 from the train data\n",
    "inputs = new_data[len(new_data) - len(valid) - 60:].values\n",
    "inputs = inputs.reshape(-inputs.shape[1],inputs.shape[1])\n",
    "inputs  = sc_valid.transform(inputs)\n",
    "\n",
    "X_test = []\n",
    "for i in range(60,inputs.shape[0]):\n",
    "    X_test.append(inputs[i-60:i,0])\n",
    "X_test = np.array(X_test)\n",
    "\n",
    "X_test = X_test.reshape(X_test.shape[0],X_test.shape[1],1)\n",
    "closing_price = model.predict(X_test)\n",
    "\n",
    "# invert scaling for forecast\n",
    "inv_yhat = np.concatenate((closing_price,X_test[:,-2]), axis=1)\n",
    "closing_price = sc_valid.inverse_transform(inv_yhat)"
   ]
  },
  {
   "cell_type": "code",
   "execution_count": 7,
   "metadata": {},
   "outputs": [
    {
     "data": {
      "text/plain": [
       "364.545674377841"
      ]
     },
     "execution_count": 7,
     "metadata": {},
     "output_type": "execute_result"
    }
   ],
   "source": [
    "valid = np.nan_to_num(valid)\n",
    "lstm_comp_rms=np.sqrt(np.mean(np.power((valid-closing_price),2)))\n",
    "lstm_comp_rms"
   ]
  },
  {
   "cell_type": "code",
   "execution_count": 8,
   "metadata": {},
   "outputs": [
    {
     "name": "stderr",
     "output_type": "stream",
     "text": [
      "<ipython-input-8-4c277704a6f0>:4: SettingWithCopyWarning: \n",
      "A value is trying to be set on a copy of a slice from a DataFrame.\n",
      "Try using .loc[row_indexer,col_indexer] = value instead\n",
      "\n",
      "See the caveats in the documentation: https://pandas.pydata.org/pandas-docs/stable/user_guide/indexing.html#returning-a-view-versus-a-copy\n",
      "  valid['Predictions'] = closing_price[:,0]\n"
     ]
    },
    {
     "data": {
      "text/plain": [
       "<matplotlib.legend.Legend at 0x1d210d31880>"
      ]
     },
     "execution_count": 8,
     "metadata": {},
     "output_type": "execute_result"
    },
    {
     "data": {
      "image/png": "[encoded data removed]",
      "text/plain": [
       "<Figure size 432x288 with 1 Axes>"
      ]
     },
     "metadata": {
      "needs_background": "light"
     },
     "output_type": "display_data"
    }
   ],
   "source": [
    "#for plotting\n",
    "train = new_data[:650]\n",
    "valid = new_data[650:]\n",
    "valid['Predictions'] = closing_price[:,0]\n",
    "plt.plot(train['Close'])\n",
    "plt.plot(valid[['Close','Predictions']])\n",
    "\n",
    "plt.legend(labels=['Training Price', 'Actual Price', 'Predicted Price'])"
   ]
  },
  {
   "cell_type": "code",
   "execution_count": 20,
   "metadata": {},
   "outputs": [
    {
     "data": {
      "image/png": "[encoded data removed]",
      "text/plain": [
       "<Figure size 432x288 with 1 Axes>"
      ]
     },
     "metadata": {
      "needs_background": "light"
     },
     "output_type": "display_data"
    }
   ],
   "source": [
    "from matplotlib import pyplot\n",
    "\n",
    "pyplot.plot(history.history['loss'])\n",
    "pyplot.plot(history.history['val_loss'])\n",
    "pyplot.title('model train vs validation loss')\n",
    "pyplot.ylabel('loss')\n",
    "pyplot.xlabel('epoch')\n",
    "pyplot.legend(['train', 'validation'], loc='upper right')\n",
    "pyplot.show()"
   ]
  },
  {
   "cell_type": "markdown",
   "metadata": {},
   "source": [
    "# Multivariate LSTM Cross Entropy"
   ]
  },
  {
   "cell_type": "code",
   "execution_count": 23,
   "metadata": {
    "scrolled": true
   },
   "outputs": [
    {
     "name": "stdout",
     "output_type": "stream",
     "text": [
      "Epoch 1/50\n",
      "590/590 - 11s - loss: 0.6434 - accuracy: 0.0017 - val_loss: 0.5322 - val_accuracy: 0.0526\n",
      "Epoch 2/50\n",
      "590/590 - 6s - loss: 0.6365 - accuracy: 0.0017 - val_loss: 0.5301 - val_accuracy: 0.0526\n",
      "Epoch 3/50\n",
      "590/590 - 6s - loss: 0.6304 - accuracy: 0.0017 - val_loss: 0.5344 - val_accuracy: 0.0526\n",
      "Epoch 4/50\n",
      "590/590 - 6s - loss: 0.6317 - accuracy: 0.0017 - val_loss: 0.5327 - val_accuracy: 0.0526\n",
      "Epoch 5/50\n",
      "590/590 - 6s - loss: 0.6421 - accuracy: 0.0017 - val_loss: 0.5407 - val_accuracy: 0.0526\n",
      "Epoch 6/50\n",
      "590/590 - 6s - loss: 0.6291 - accuracy: 0.0017 - val_loss: 0.5567 - val_accuracy: 0.0526\n",
      "Epoch 7/50\n",
      "590/590 - 6s - loss: 0.6377 - accuracy: 0.0017 - val_loss: 0.5597 - val_accuracy: 0.0526\n",
      "Epoch 8/50\n",
      "590/590 - 6s - loss: 0.6400 - accuracy: 0.0017 - val_loss: 0.5195 - val_accuracy: 0.0526\n",
      "Epoch 9/50\n",
      "590/590 - 6s - loss: 0.6316 - accuracy: 0.0017 - val_loss: 0.5449 - val_accuracy: 0.0526\n",
      "Epoch 10/50\n",
      "590/590 - 6s - loss: 0.6272 - accuracy: 0.0017 - val_loss: 0.5277 - val_accuracy: 0.0526\n",
      "Epoch 11/50\n",
      "590/590 - 6s - loss: 0.6296 - accuracy: 0.0017 - val_loss: 0.5289 - val_accuracy: 0.0526\n",
      "Epoch 12/50\n",
      "590/590 - 6s - loss: 0.6279 - accuracy: 0.0017 - val_loss: 0.5529 - val_accuracy: 0.0526\n",
      "Epoch 13/50\n",
      "590/590 - 6s - loss: 0.6282 - accuracy: 0.0017 - val_loss: 0.5591 - val_accuracy: 0.0526\n",
      "Epoch 14/50\n",
      "590/590 - 6s - loss: 0.6332 - accuracy: 0.0017 - val_loss: 0.5144 - val_accuracy: 0.0526\n",
      "Epoch 15/50\n",
      "590/590 - 6s - loss: 0.6293 - accuracy: 0.0017 - val_loss: 0.5258 - val_accuracy: 0.0526\n",
      "Epoch 16/50\n",
      "590/590 - 6s - loss: 0.6260 - accuracy: 0.0017 - val_loss: 0.6158 - val_accuracy: 0.0526\n",
      "Epoch 17/50\n",
      "590/590 - 6s - loss: 0.6260 - accuracy: 0.0017 - val_loss: 0.6156 - val_accuracy: 0.0526\n",
      "Epoch 18/50\n",
      "590/590 - 6s - loss: 0.6272 - accuracy: 0.0017 - val_loss: 0.5204 - val_accuracy: 0.0526\n",
      "Epoch 19/50\n",
      "590/590 - 6s - loss: 0.6354 - accuracy: 0.0017 - val_loss: 0.5079 - val_accuracy: 0.0526\n",
      "Epoch 20/50\n",
      "590/590 - 6s - loss: 0.6275 - accuracy: 0.0017 - val_loss: 0.5153 - val_accuracy: 0.0526\n",
      "Epoch 21/50\n",
      "590/590 - 6s - loss: 0.6270 - accuracy: 0.0017 - val_loss: 0.5235 - val_accuracy: 0.0526\n",
      "Epoch 22/50\n",
      "590/590 - 6s - loss: 0.6271 - accuracy: 0.0017 - val_loss: 0.5130 - val_accuracy: 0.0526\n",
      "Epoch 23/50\n",
      "590/590 - 6s - loss: 0.6257 - accuracy: 0.0017 - val_loss: 0.5137 - val_accuracy: 0.0526\n",
      "Epoch 24/50\n",
      "590/590 - 6s - loss: 0.6263 - accuracy: 0.0017 - val_loss: 0.5135 - val_accuracy: 0.0526\n",
      "Epoch 25/50\n",
      "590/590 - 6s - loss: 0.6272 - accuracy: 0.0017 - val_loss: 0.5086 - val_accuracy: 0.0526\n",
      "Epoch 26/50\n",
      "590/590 - 6s - loss: 0.6264 - accuracy: 0.0017 - val_loss: 0.6145 - val_accuracy: 0.0526\n",
      "Epoch 27/50\n",
      "590/590 - 6s - loss: 0.6270 - accuracy: 0.0017 - val_loss: 0.5121 - val_accuracy: 0.0526\n",
      "Epoch 28/50\n",
      "590/590 - 6s - loss: 0.6278 - accuracy: 0.0017 - val_loss: 0.5160 - val_accuracy: 0.0526\n",
      "Epoch 29/50\n",
      "590/590 - 6s - loss: 0.6263 - accuracy: 0.0017 - val_loss: 0.5127 - val_accuracy: 0.0526\n",
      "Epoch 30/50\n",
      "590/590 - 6s - loss: 0.6330 - accuracy: 0.0017 - val_loss: 0.5132 - val_accuracy: 0.0526\n",
      "Epoch 31/50\n",
      "590/590 - 6s - loss: 0.6305 - accuracy: 0.0017 - val_loss: 0.5124 - val_accuracy: 0.0526\n",
      "Epoch 32/50\n",
      "590/590 - 6s - loss: 0.6264 - accuracy: 0.0017 - val_loss: 0.5176 - val_accuracy: 0.0526\n",
      "Epoch 33/50\n",
      "590/590 - 6s - loss: 0.6278 - accuracy: 0.0017 - val_loss: 0.5163 - val_accuracy: 0.0526\n",
      "Epoch 34/50\n",
      "590/590 - 6s - loss: 0.6270 - accuracy: 0.0017 - val_loss: 0.5100 - val_accuracy: 0.0526\n",
      "Epoch 35/50\n",
      "590/590 - 6s - loss: 0.6277 - accuracy: 0.0017 - val_loss: 0.5189 - val_accuracy: 0.0526\n",
      "Epoch 36/50\n",
      "590/590 - 6s - loss: 0.6259 - accuracy: 0.0017 - val_loss: 0.5139 - val_accuracy: 0.0526\n",
      "Epoch 37/50\n",
      "590/590 - 7s - loss: 0.6289 - accuracy: 0.0017 - val_loss: 0.5165 - val_accuracy: 0.0526\n",
      "Epoch 38/50\n",
      "590/590 - 7s - loss: 0.6258 - accuracy: 0.0017 - val_loss: 0.5170 - val_accuracy: 0.0526\n",
      "Epoch 39/50\n",
      "590/590 - 7s - loss: 0.6379 - accuracy: 0.0017 - val_loss: 0.5108 - val_accuracy: 0.0526\n",
      "Epoch 40/50\n",
      "590/590 - 6s - loss: 0.6284 - accuracy: 0.0017 - val_loss: 0.5062 - val_accuracy: 0.0526\n",
      "Epoch 41/50\n",
      "590/590 - 7s - loss: 0.6278 - accuracy: 0.0017 - val_loss: 0.5173 - val_accuracy: 0.0526\n",
      "Epoch 42/50\n",
      "590/590 - 6s - loss: 0.6256 - accuracy: 0.0017 - val_loss: 0.5132 - val_accuracy: 0.0526\n",
      "Epoch 43/50\n",
      "590/590 - 6s - loss: 0.6262 - accuracy: 0.0017 - val_loss: 0.5149 - val_accuracy: 0.0526\n",
      "Epoch 44/50\n",
      "590/590 - 6s - loss: 0.6341 - accuracy: 0.0017 - val_loss: 0.5188 - val_accuracy: 0.0526\n",
      "Epoch 45/50\n",
      "590/590 - 6s - loss: 0.6293 - accuracy: 0.0017 - val_loss: 0.5131 - val_accuracy: 0.0526\n",
      "Epoch 46/50\n",
      "590/590 - 6s - loss: 0.6262 - accuracy: 0.0017 - val_loss: 0.5130 - val_accuracy: 0.0526\n",
      "Epoch 47/50\n",
      "590/590 - 6s - loss: 0.6254 - accuracy: 0.0017 - val_loss: 0.5100 - val_accuracy: 0.0526\n",
      "Epoch 48/50\n",
      "590/590 - 6s - loss: 0.6304 - accuracy: 0.0017 - val_loss: 0.5168 - val_accuracy: 0.0526\n",
      "Epoch 49/50\n",
      "590/590 - 6s - loss: 0.6277 - accuracy: 0.0017 - val_loss: 0.5079 - val_accuracy: 0.0526\n",
      "Epoch 50/50\n",
      "590/590 - 6s - loss: 0.6253 - accuracy: 0.0017 - val_loss: 0.5142 - val_accuracy: 0.0526\n",
      "[0.6434428691864014, 0.6365200877189636, 0.6303510069847107, 0.6317331194877625, 0.6420894861221313, 0.629104733467102, 0.6377343535423279, 0.6399868726730347, 0.6315734386444092, 0.6272172927856445, 0.62956702709198, 0.6278733611106873, 0.6281918883323669, 0.6331756711006165, 0.6292758584022522, 0.6260470747947693, 0.6259946823120117, 0.6271771192550659, 0.6354103088378906, 0.6274658441543579, 0.6269761919975281, 0.6271015405654907, 0.6257259845733643, 0.626290500164032, 0.6271726489067078, 0.6263570785522461, 0.6270155906677246, 0.6278273463249207, 0.6262692809104919, 0.6330193877220154, 0.6304752826690674, 0.6264241933822632, 0.6277549862861633, 0.6270344257354736, 0.6277327537536621, 0.625926673412323, 0.6288840174674988, 0.6258088946342468, 0.6378551721572876, 0.6284412145614624, 0.6278336048126221, 0.6255941390991211, 0.6261539459228516, 0.634139358997345, 0.6292679309844971, 0.6261610984802246, 0.6253983974456787, 0.6304082274436951, 0.6277477741241455, 0.6252752542495728]\n",
      "[0.0016949152341112494, 0.0016949152341112494, 0.0016949152341112494, 0.0016949152341112494, 0.0016949152341112494, 0.0016949152341112494, 0.0016949152341112494, 0.0016949152341112494, 0.0016949152341112494, 0.0016949152341112494, 0.0016949152341112494, 0.0016949152341112494, 0.0016949152341112494, 0.0016949152341112494, 0.0016949152341112494, 0.0016949152341112494, 0.0016949152341112494, 0.0016949152341112494, 0.0016949152341112494, 0.0016949152341112494, 0.0016949152341112494, 0.0016949152341112494, 0.0016949152341112494, 0.0016949152341112494, 0.0016949152341112494, 0.0016949152341112494, 0.0016949152341112494, 0.0016949152341112494, 0.0016949152341112494, 0.0016949152341112494, 0.0016949152341112494, 0.0016949152341112494, 0.0016949152341112494, 0.0016949152341112494, 0.0016949152341112494, 0.0016949152341112494, 0.0016949152341112494, 0.0016949152341112494, 0.0016949152341112494, 0.0016949152341112494, 0.0016949152341112494, 0.0016949152341112494, 0.0016949152341112494, 0.0016949152341112494, 0.0016949152341112494, 0.0016949152341112494, 0.0016949152341112494, 0.0016949152341112494, 0.0016949152341112494, 0.0016949152341112494]\n"
     ]
    }
   ],
   "source": [
    "#creating dataframe\n",
    "data = dataset_train.sort_index(ascending=True, axis=0)\n",
    "new_data = pd.DataFrame(index=range(0,len(dataset_train)),columns=['Date', 'Close', 'Compound'])\n",
    "for i in range(0,len(dataset_train)):\n",
    "    new_data['Date'][i] = df.index[i]\n",
    "    new_data['Close'][i] = comp_df['close'][i]\n",
    "    new_data['Compound'][i] = comp_df['compound'][i]\n",
    "\n",
    "#setting index\n",
    "new_data.index = new_data.Date\n",
    "new_data.drop('Date', axis=1, inplace=True)\n",
    "\n",
    "#creating train and test sets\n",
    "dataset = new_data.values.astype('float')\n",
    "\n",
    "train = dataset[0:650,:]\n",
    "valid = dataset[650:,:]\n",
    "\n",
    "sc_train = MinMaxScaler(feature_range = (0, 1))\n",
    "training_set_scaled = sc_train.fit_transform(train)\n",
    "X_train = []\n",
    "y_train = []\n",
    "for i in range(60, len(train)):\n",
    "    X_train.append(training_set_scaled[i-60:i, 0])\n",
    "    y_train.append(training_set_scaled[i, 0]) \n",
    "X_train, y_train = np.array(X_train), np.array(y_train)\n",
    "X_train = np.reshape(X_train, (X_train.shape[0], X_train.shape[1], 1))\n",
    "\n",
    "sc_valid = MinMaxScaler(feature_range = (0, 1))\n",
    "valid_set_scaled = sc_valid.fit_transform(valid)\n",
    "X_valid = []\n",
    "y_valid = []\n",
    "for i in range(60, len(valid)):\n",
    "    X_valid.append(valid_set_scaled[i-60:i, 0])\n",
    "    y_valid.append(valid_set_scaled[i, 0]) \n",
    "X_valid, y_valid = np.array(X_valid), np.array(y_valid)\n",
    "X_valid = np.reshape(X_valid, (X_valid.shape[0], X_valid.shape[1], 1))\n",
    "\n",
    "\n",
    "\n",
    "# create and fit the LSTM network\n",
    "model = Sequential()\n",
    "model.add(LSTM(units=50, return_sequences=True, input_shape=(X_train.shape[1],1)))\n",
    "model.add(LSTM(units=50))\n",
    "model.add(Dense(1))\n",
    "\n",
    "model.compile(loss='binary_crossentropy', optimizer='adam', metrics=['accuracy'])\n",
    "history = model.fit(X_train, y_train, epochs=50, validation_data=(X_valid, y_valid), batch_size=1, verbose=2)\n",
    "\n",
    "print(history.history['loss'])\n",
    "print(history.history['accuracy'])"
   ]
  },
  {
   "cell_type": "code",
   "execution_count": null,
   "metadata": {},
   "outputs": [],
   "source": [
    "#predicting 246 values, using past 60 from the train data\n",
    "inputs = new_data[len(new_data) - len(valid) - 60:].values\n",
    "inputs = inputs.reshape(-inputs.shape[1],inputs.shape[1])\n",
    "inputs  = sc_valid.transform(inputs)\n",
    "\n",
    "X_test = []\n",
    "for i in range(60,inputs.shape[0]):\n",
    "    X_test.append(inputs[i-60:i,0])\n",
    "X_test = np.array(X_test)\n",
    "\n",
    "X_test = X_test.reshape(X_test.shape[0],X_test.shape[1],1)\n",
    "closing_price = model.predict(X_test)\n",
    "\n",
    "# invert scaling for forecast\n",
    "inv_yhat = np.concatenate((closing_price,X_test[:,-2]), axis=1)\n",
    "closing_price = sc_valid.inverse_transform(inv_yhat)"
   ]
  },
  {
   "cell_type": "code",
   "execution_count": null,
   "metadata": {},
   "outputs": [],
   "source": [
    "valid = np.nan_to_num(valid)\n",
    "lstm_comp_rms=np.sqrt(np.mean(np.power((valid-closing_price),2)))\n",
    "lstm_comp_rms"
   ]
  },
  {
   "cell_type": "code",
   "execution_count": null,
   "metadata": {},
   "outputs": [],
   "source": [
    "#for plotting\n",
    "train = new_data[:650]\n",
    "valid = new_data[650:]\n",
    "valid['Predictions'] = closing_price[:,0]\n",
    "plt.plot(train['Close'])\n",
    "plt.plot(valid[['Close','Predictions']])\n",
    "\n",
    "plt.legend(labels=['Training Price', 'Actual Price', 'Predicted Price'])"
   ]
  },
  {
   "cell_type": "code",
   "execution_count": null,
   "metadata": {},
   "outputs": [],
   "source": [
    "from matplotlib import pyplot\n",
    "\n",
    "pyplot.plot(history.history['loss'])\n",
    "pyplot.plot(history.history['val_loss'])\n",
    "pyplot.title('model train vs validation loss')\n",
    "pyplot.ylabel('loss')\n",
    "pyplot.xlabel('epoch')\n",
    "pyplot.legend(['train', 'validation'], loc='upper right')\n",
    "pyplot.show()"
   ]
  },
  {
   "cell_type": "markdown",
   "metadata": {},
   "source": [
    "# Multivariate LSTM SMA"
   ]
  },
  {
   "cell_type": "code",
   "execution_count": 570,
   "metadata": {},
   "outputs": [
    {
     "name": "stdout",
     "output_type": "stream",
     "text": [
      "Epoch 1/10\n",
      "690/690 - 11s - loss: 0.0072\n",
      "Epoch 2/10\n",
      "690/690 - 8s - loss: 0.0023\n",
      "Epoch 3/10\n",
      "690/690 - 8s - loss: 0.0018\n",
      "Epoch 4/10\n",
      "690/690 - 8s - loss: 0.0016\n",
      "Epoch 5/10\n",
      "690/690 - 8s - loss: 0.0013\n",
      "Epoch 6/10\n",
      "690/690 - 8s - loss: 0.0011\n",
      "Epoch 7/10\n",
      "690/690 - 8s - loss: 0.0012\n",
      "Epoch 8/10\n",
      "690/690 - 8s - loss: 0.0011\n",
      "Epoch 9/10\n",
      "690/690 - 8s - loss: 9.0491e-04\n",
      "Epoch 10/10\n",
      "690/690 - 8s - loss: 9.3008e-04\n"
     ]
    },
    {
     "data": {
      "text/plain": [
       "<tensorflow.python.keras.callbacks.History at 0x1f0881a9700>"
      ]
     },
     "execution_count": 570,
     "metadata": {},
     "output_type": "execute_result"
    }
   ],
   "source": [
    "#creating dataframe\n",
    "data = dataset_train.sort_index(ascending=True, axis=0)\n",
    "new_data = pd.DataFrame(index=range(0,len(dataset_train)),columns=['Date', 'Close', 'SMA'])\n",
    "for i in range(0,len(dataset_train)):\n",
    "    new_data['Date'][i] = dataset_train.index[i]\n",
    "    new_data['Close'][i] = dataset_train['close'][i]\n",
    "    new_data['SMA'][i] = dataset_train['sma'][i]\n",
    "\n",
    "#setting index\n",
    "new_data.index = new_data.Date\n",
    "new_data.drop('Date', axis=1, inplace=True)\n",
    "\n",
    "#creating train and test sets\n",
    "dataset = new_data.values\n",
    "\n",
    "train = dataset[0:750,:]\n",
    "valid = dataset[750:,:]\n",
    "\n",
    "#converting dataset into x_train and y_train\n",
    "scaler = MinMaxScaler(feature_range=(0, 1))\n",
    "scaled_data = scaler.fit_transform(dataset)\n",
    "\n",
    "x_train, y_train = [], []\n",
    "for i in range(60,len(train)):\n",
    "    x_train.append(scaled_data[i-60:i,0])\n",
    "    y_train.append(scaled_data[i,0])\n",
    "x_train, y_train = np.array(x_train), np.array(y_train)\n",
    "\n",
    "x_train = np.reshape(x_train, (x_train.shape[0],x_train.shape[1],1))\n",
    "\n",
    "# create and fit the LSTM network\n",
    "model = Sequential()\n",
    "model.add(LSTM(units=50, return_sequences=True, input_shape=(x_train.shape[1],1)))\n",
    "model.add(LSTM(units=50))\n",
    "model.add(Dense(1))\n",
    "\n",
    "model.compile(loss='mean_squared_error', optimizer='adam')\n",
    "model.fit(x_train, y_train, epochs=10, batch_size=1, verbose=2)"
   ]
  },
  {
   "cell_type": "code",
   "execution_count": 571,
   "metadata": {},
   "outputs": [
    {
     "name": "stdout",
     "output_type": "stream",
     "text": [
      "WARNING:tensorflow:6 out of the last 13 calls to <function Model.make_predict_function.<locals>.predict_function at 0x000001F08B7FC3A0> triggered tf.function retracing. Tracing is expensive and the excessive number of tracings could be due to (1) creating @tf.function repeatedly in a loop, (2) passing tensors with different shapes, (3) passing Python objects instead of tensors. For (1), please define your @tf.function outside of the loop. For (2), @tf.function has experimental_relax_shapes=True option that relaxes argument shapes that can avoid unnecessary retracing. For (3), please refer to https://www.tensorflow.org/guide/function#controlling_retracing and https://www.tensorflow.org/api_docs/python/tf/function for  more details.\n"
     ]
    }
   ],
   "source": [
    "#predicting 246 values, using past 60 from the train data\n",
    "inputs = new_data[len(new_data) - len(valid) - 60:].values\n",
    "inputs = inputs.reshape(-inputs.shape[1],inputs.shape[1])\n",
    "inputs  = scaler.transform(inputs)\n",
    "\n",
    "X_test = []\n",
    "for i in range(60,inputs.shape[0]):\n",
    "    X_test.append(inputs[i-60:i,0])\n",
    "X_test = np.array(X_test)\n",
    "\n",
    "X_test = X_test.reshape(X_test.shape[0],X_test.shape[1],1)\n",
    "closing_price = model.predict(X_test)\n",
    "\n",
    "# invert scaling for forecast\n",
    "inv_yhat = np.concatenate((closing_price,X_test[:,-2]), axis=1)\n",
    "closing_price = scaler.inverse_transform(inv_yhat)"
   ]
  },
  {
   "cell_type": "code",
   "execution_count": 572,
   "metadata": {},
   "outputs": [
    {
     "data": {
      "text/plain": [
       "678.6901054863671"
      ]
     },
     "execution_count": 572,
     "metadata": {},
     "output_type": "execute_result"
    }
   ],
   "source": [
    "lstm_sma_rms=np.sqrt(np.mean(np.power((valid-closing_price),2)))\n",
    "lstm_sma_rms"
   ]
  },
  {
   "cell_type": "code",
   "execution_count": 573,
   "metadata": {},
   "outputs": [
    {
     "name": "stderr",
     "output_type": "stream",
     "text": [
      "<ipython-input-573-884ef8ca4d3f>:4: SettingWithCopyWarning: \n",
      "A value is trying to be set on a copy of a slice from a DataFrame.\n",
      "Try using .loc[row_indexer,col_indexer] = value instead\n",
      "\n",
      "See the caveats in the documentation: https://pandas.pydata.org/pandas-docs/stable/user_guide/indexing.html#returning-a-view-versus-a-copy\n",
      "  valid['Predictions'] = closing_price[:,0]\n"
     ]
    },
    {
     "data": {
      "text/plain": [
       "<matplotlib.legend.Legend at 0x1f08ddf5430>"
      ]
     },
     "execution_count": 573,
     "metadata": {},
     "output_type": "execute_result"
    },
    {
     "data": {
      "image/png": "[encoded data removed]",
      "text/plain": [
       "<Figure size 1008x360 with 1 Axes>"
      ]
     },
     "metadata": {
      "needs_background": "light"
     },
     "output_type": "display_data"
    }
   ],
   "source": [
    "#for plotting\n",
    "train = new_data[:750]\n",
    "valid = new_data[750:]\n",
    "valid['Predictions'] = closing_price[:,0]\n",
    "plt.plot(train['Close'])\n",
    "plt.plot(valid[['Close','Predictions']])\n",
    "\n",
    "plt.legend(labels=['Training Price', 'Actual Price', 'Predicted Price'])"
   ]
  },
  {
   "cell_type": "code",
   "execution_count": 22,
   "metadata": {},
   "outputs": [
    {
     "data": {
      "image/png": "[encoded data removed]",
      "text/plain": [
       "<Figure size 432x288 with 1 Axes>"
      ]
     },
     "metadata": {
      "needs_background": "light"
     },
     "output_type": "display_data"
    }
   ],
   "source": [
    "from matplotlib import pyplot\n",
    "\n",
    "pyplot.plot(history.history['loss'])\n",
    "pyplot.plot(history.history['val_loss'])\n",
    "pyplot.title('model train vs validation loss')\n",
    "pyplot.ylabel('loss')\n",
    "pyplot.xlabel('epoch')\n",
    "pyplot.legend(['train', 'validation'], loc='upper right')\n",
    "pyplot.show()"
   ]
  },
  {
   "cell_type": "markdown",
   "metadata": {},
   "source": [
    "# EMA MultiVariate LSTM"
   ]
  },
  {
   "cell_type": "code",
   "execution_count": 12,
   "metadata": {},
   "outputs": [
    {
     "name": "stdout",
     "output_type": "stream",
     "text": [
      "Epoch 1/10\n",
      "690/690 - 10s - loss: 0.0060\n",
      "Epoch 2/10\n",
      "690/690 - 7s - loss: 0.0023\n",
      "Epoch 3/10\n",
      "690/690 - 7s - loss: 0.0018\n",
      "Epoch 4/10\n",
      "690/690 - 7s - loss: 0.0014\n",
      "Epoch 5/10\n",
      "690/690 - 7s - loss: 0.0012\n",
      "Epoch 6/10\n",
      "690/690 - 7s - loss: 0.0010\n",
      "Epoch 7/10\n",
      "690/690 - 7s - loss: 0.0011\n",
      "Epoch 8/10\n",
      "690/690 - 7s - loss: 0.0010\n",
      "Epoch 9/10\n",
      "690/690 - 7s - loss: 0.0011\n",
      "Epoch 10/10\n",
      "690/690 - 7s - loss: 0.0010\n"
     ]
    },
    {
     "data": {
      "text/plain": [
       "<tensorflow.python.keras.callbacks.History at 0x222d424b430>"
      ]
     },
     "execution_count": 12,
     "metadata": {},
     "output_type": "execute_result"
    }
   ],
   "source": [
    "#creating dataframe\n",
    "data = dataset_train.sort_index(ascending=True, axis=0)\n",
    "new_data = pd.DataFrame(index=range(0,len(dataset_train)),columns=['Date', 'Close', 'EMA'])\n",
    "for i in range(0,len(dataset_train)):\n",
    "    new_data['Date'][i] = dataset_train.index[i]\n",
    "    new_data['Close'][i] = dataset_train['close'][i]\n",
    "    new_data['EMA'][i] = dataset_train['ema'][i]\n",
    "\n",
    "#setting index\n",
    "new_data.index = new_data.Date\n",
    "new_data.drop('Date', axis=1, inplace=True)\n",
    "\n",
    "#creating train and test sets\n",
    "dataset = new_data.values\n",
    "\n",
    "train = dataset[0:750,:]\n",
    "valid = dataset[750:,:]\n",
    "\n",
    "#converting dataset into x_train and y_train\n",
    "scaler = MinMaxScaler(feature_range=(0, 1))\n",
    "scaled_data = scaler.fit_transform(dataset)\n",
    "\n",
    "x_train, y_train = [], []\n",
    "for i in range(60,len(train)):\n",
    "    x_train.append(scaled_data[i-60:i,0])\n",
    "    y_train.append(scaled_data[i,0])\n",
    "x_train, y_train = np.array(x_train), np.array(y_train)\n",
    "\n",
    "x_train = np.reshape(x_train, (x_train.shape[0],x_train.shape[1],1))\n",
    "\n",
    "# create and fit the LSTM network\n",
    "model = Sequential()\n",
    "model.add(LSTM(units=50, return_sequences=True, input_shape=(x_train.shape[1],1)))\n",
    "model.add(LSTM(units=50))\n",
    "model.add(Dense(1))\n",
    "\n",
    "model.compile(loss='mean_squared_error', optimizer='adam')\n",
    "model.fit(x_train, y_train, epochs=10, batch_size=1, verbose=2)"
   ]
  },
  {
   "cell_type": "code",
   "execution_count": 13,
   "metadata": {},
   "outputs": [],
   "source": [
    "#predicting 246 values, using past 60 from the train data\n",
    "inputs = new_data[len(new_data) - len(valid) - 60:].values\n",
    "inputs = inputs.reshape(-inputs.shape[1],inputs.shape[1])\n",
    "inputs  = scaler.transform(inputs)\n",
    "\n",
    "X_test = []\n",
    "for i in range(60,inputs.shape[0]):\n",
    "    X_test.append(inputs[i-60:i,0])\n",
    "X_test = np.array(X_test)\n",
    "\n",
    "X_test = X_test.reshape(X_test.shape[0],X_test.shape[1],1)\n",
    "closing_price = model.predict(X_test)\n",
    "\n",
    "# invert scaling for forecast\n",
    "inv_yhat = np.concatenate((closing_price,X_test[:,-2]), axis=1)\n",
    "closing_price = scaler.inverse_transform(inv_yhat)"
   ]
  },
  {
   "cell_type": "code",
   "execution_count": 14,
   "metadata": {},
   "outputs": [
    {
     "data": {
      "text/plain": [
       "440.7397073871837"
      ]
     },
     "execution_count": 14,
     "metadata": {},
     "output_type": "execute_result"
    }
   ],
   "source": [
    "lstm_ema_rms=np.sqrt(np.mean(np.power((valid-closing_price),2)))\n",
    "lstm_ema_rms"
   ]
  },
  {
   "cell_type": "code",
   "execution_count": 15,
   "metadata": {},
   "outputs": [
    {
     "name": "stderr",
     "output_type": "stream",
     "text": [
      "<ipython-input-15-884ef8ca4d3f>:4: SettingWithCopyWarning: \n",
      "A value is trying to be set on a copy of a slice from a DataFrame.\n",
      "Try using .loc[row_indexer,col_indexer] = value instead\n",
      "\n",
      "See the caveats in the documentation: https://pandas.pydata.org/pandas-docs/stable/user_guide/indexing.html#returning-a-view-versus-a-copy\n",
      "  valid['Predictions'] = closing_price[:,0]\n"
     ]
    },
    {
     "data": {
      "text/plain": [
       "<matplotlib.legend.Legend at 0x222d86e1370>"
      ]
     },
     "execution_count": 15,
     "metadata": {},
     "output_type": "execute_result"
    },
    {
     "data": {
      "image/png": "[encoded data removed]",
      "text/plain": [
       "<Figure size 432x288 with 1 Axes>"
      ]
     },
     "metadata": {
      "needs_background": "light"
     },
     "output_type": "display_data"
    }
   ],
   "source": [
    "#for plotting\n",
    "train = new_data[:750]\n",
    "valid = new_data[750:]\n",
    "valid['Predictions'] = closing_price[:,0]\n",
    "plt.plot(train['Close'])\n",
    "plt.plot(valid[['Close','Predictions']])\n",
    "\n",
    "plt.legend(labels=['Training Price', 'Actual Price', 'Predicted Price'])"
   ]
  },
  {
   "cell_type": "markdown",
   "metadata": {},
   "source": [
    "# Bin MultiVariate LSTM"
   ]
  },
  {
   "cell_type": "code",
   "execution_count": 578,
   "metadata": {},
   "outputs": [],
   "source": [
    "bin_labels = [-1, -0.01, 0, 0.01, 1]\n",
    "\n",
    "comp_df['compound'] = comp_df['compound'].fillna(0)\n",
    "comp_df['rank'] = comp_df['compound'].rank(method='first')\n",
    "\n",
    "comp_df['bin'] = pd.qcut(comp_df['rank'], q=5, labels=bin_labels)"
   ]
  },
  {
   "cell_type": "code",
   "execution_count": 537,
   "metadata": {},
   "outputs": [
    {
     "name": "stdout",
     "output_type": "stream",
     "text": [
      "Epoch 1/10\n",
      "690/690 - 10s - loss: 0.0046\n",
      "Epoch 2/10\n",
      "690/690 - 8s - loss: 0.0015\n",
      "Epoch 3/10\n",
      "690/690 - 7s - loss: 0.0012\n",
      "Epoch 4/10\n",
      "690/690 - 7s - loss: 0.0011\n",
      "Epoch 5/10\n",
      "690/690 - 7s - loss: 9.1107e-04\n",
      "Epoch 6/10\n",
      "690/690 - 7s - loss: 8.0726e-04\n",
      "Epoch 7/10\n",
      "690/690 - 7s - loss: 7.8448e-04\n",
      "Epoch 8/10\n",
      "690/690 - 7s - loss: 7.1568e-04\n",
      "Epoch 9/10\n",
      "690/690 - 7s - loss: 6.8414e-04\n",
      "Epoch 10/10\n",
      "690/690 - 7s - loss: 6.8845e-04\n"
     ]
    },
    {
     "data": {
      "text/plain": [
       "<tensorflow.python.keras.callbacks.History at 0x1f066770460>"
      ]
     },
     "execution_count": 537,
     "metadata": {},
     "output_type": "execute_result"
    }
   ],
   "source": [
    "#creating dataframe\n",
    "data = comp_df.sort_index(ascending=True, axis=0)\n",
    "new_data = pd.DataFrame(index=range(0,len(comp_df)),columns=['Date', 'Close', 'Bin'])\n",
    "for i in range(0,len(comp_df)):\n",
    "    new_data['Date'][i] = comp_df.index[i]\n",
    "    new_data['Close'][i] = comp_df['close'][i]\n",
    "    new_data['Bin'][i] = comp_df['bin'][i]\n",
    "\n",
    "#setting index\n",
    "new_data.index = new_data.Date\n",
    "new_data.drop('Date', axis=1, inplace=True)\n",
    "\n",
    "#creating train and test sets\n",
    "dataset = new_data.values\n",
    "\n",
    "train = dataset[0:750,:]\n",
    "valid = dataset[750:,:]\n",
    "\n",
    "#converting dataset into x_train and y_train\n",
    "scaler = MinMaxScaler(feature_range=(0, 1))\n",
    "scaled_data = scaler.fit_transform(dataset)\n",
    "\n",
    "x_train, y_train = [], []\n",
    "for i in range(60,len(train)):\n",
    "    x_train.append(scaled_data[i-60:i,0])\n",
    "    y_train.append(scaled_data[i,0])\n",
    "x_train, y_train = np.array(x_train), np.array(y_train)\n",
    "\n",
    "x_train = np.reshape(x_train, (x_train.shape[0],x_train.shape[1],1))\n",
    "\n",
    "# create and fit the LSTM network\n",
    "model = Sequential()\n",
    "model.add(LSTM(units=50, return_sequences=True, input_shape=(x_train.shape[1],1)))\n",
    "model.add(LSTM(units=50))\n",
    "model.add(Dense(1))\n",
    "\n",
    "model.compile(loss='mean_squared_error', optimizer='adam')\n",
    "model.fit(x_train, y_train, epochs=10, batch_size=1, verbose=2)"
   ]
  },
  {
   "cell_type": "code",
   "execution_count": 538,
   "metadata": {},
   "outputs": [],
   "source": [
    "#predicting 246 values, using past 60 from the train data\n",
    "inputs = new_data[len(new_data) - len(valid) - 60:].values\n",
    "inputs = inputs.reshape(-inputs.shape[1],inputs.shape[1])\n",
    "inputs  = scaler.transform(inputs)\n",
    "\n",
    "X_test = []\n",
    "for i in range(60,inputs.shape[0]):\n",
    "    X_test.append(inputs[i-60:i,0])\n",
    "X_test = np.array(X_test)\n",
    "\n",
    "X_test = X_test.reshape(X_test.shape[0],X_test.shape[1],1)\n",
    "closing_price = model.predict(X_test)\n",
    "\n",
    "# invert scaling for forecast\n",
    "inv_yhat = np.concatenate((closing_price,X_test[:,-2]), axis=1)\n",
    "closing_price = scaler.inverse_transform(inv_yhat)"
   ]
  },
  {
   "cell_type": "code",
   "execution_count": 539,
   "metadata": {},
   "outputs": [
    {
     "data": {
      "text/plain": [
       "762.7418659800528"
      ]
     },
     "execution_count": 539,
     "metadata": {},
     "output_type": "execute_result"
    }
   ],
   "source": [
    "lstm_comp_rms=np.sqrt(np.mean(np.power((valid-closing_price),2)))\n",
    "lstm_comp_rms"
   ]
  },
  {
   "cell_type": "code",
   "execution_count": 540,
   "metadata": {},
   "outputs": [
    {
     "name": "stderr",
     "output_type": "stream",
     "text": [
      "<ipython-input-540-884ef8ca4d3f>:4: SettingWithCopyWarning: \n",
      "A value is trying to be set on a copy of a slice from a DataFrame.\n",
      "Try using .loc[row_indexer,col_indexer] = value instead\n",
      "\n",
      "See the caveats in the documentation: https://pandas.pydata.org/pandas-docs/stable/user_guide/indexing.html#returning-a-view-versus-a-copy\n",
      "  valid['Predictions'] = closing_price[:,0]\n"
     ]
    },
    {
     "data": {
      "text/plain": [
       "<matplotlib.legend.Legend at 0x1f06cbc0310>"
      ]
     },
     "execution_count": 540,
     "metadata": {},
     "output_type": "execute_result"
    },
    {
     "data": {
      "image/png": "[encoded data removed]",
      "text/plain": [
       "<Figure size 1008x360 with 1 Axes>"
      ]
     },
     "metadata": {
      "needs_background": "light"
     },
     "output_type": "display_data"
    }
   ],
   "source": [
    "#for plotting\n",
    "train = new_data[:750]\n",
    "valid = new_data[750:]\n",
    "valid['Predictions'] = closing_price[:,0]\n",
    "plt.plot(train['Close'])\n",
    "plt.plot(valid[['Close','Predictions']])\n",
    "\n",
    "plt.legend(labels=['Training Price', 'Actual Price', 'Predicted Price'])"
   ]
  },
  {
   "cell_type": "markdown",
   "metadata": {},
   "source": [
    "# Bin SMA MultiVariate LSTM"
   ]
  },
  {
   "cell_type": "code",
   "execution_count": null,
   "metadata": {},
   "outputs": [],
   "source": [
    "bin_labels = [-1, -0.01, 0, 0.01, 1]\n",
    "\n",
    "dataset_train['bin'] = pd.qcut(dataset_train['sma'], q=5, labels=bin_labels)"
   ]
  },
  {
   "cell_type": "code",
   "execution_count": null,
   "metadata": {},
   "outputs": [],
   "source": [
    "#creating dataframe\n",
    "data = dataset_train.sort_index(ascending=True, axis=0)\n",
    "new_data = pd.DataFrame(index=range(0,len(dataset_train)),columns=['Date', 'Close', 'Bin'])\n",
    "for i in range(0,len(dataset_train)):\n",
    "    new_data['Date'][i] = dataset_train.index[i]\n",
    "    new_data['Close'][i] = dataset_train['close'][i]\n",
    "    new_data['Bin'][i] = dataset_train['bin'][i]\n",
    "\n",
    "#setting index\n",
    "new_data.index = new_data.Date\n",
    "new_data.drop('Date', axis=1, inplace=True)\n",
    "\n",
    "#creating train and test sets\n",
    "dataset = new_data.values\n",
    "\n",
    "train = dataset[0:750,:]\n",
    "valid = dataset[750:,:]\n",
    "\n",
    "#converting dataset into x_train and y_train\n",
    "scaler = MinMaxScaler(feature_range=(0, 1))\n",
    "scaled_data = scaler.fit_transform(dataset)\n",
    "\n",
    "x_train, y_train = [], []\n",
    "for i in range(60,len(train)):\n",
    "    x_train.append(scaled_data[i-60:i,0])\n",
    "    y_train.append(scaled_data[i,0])\n",
    "x_train, y_train = np.array(x_train), np.array(y_train)\n",
    "\n",
    "x_train = np.reshape(x_train, (x_train.shape[0],x_train.shape[1],1))\n",
    "\n",
    "# create and fit the LSTM network\n",
    "model = Sequential()\n",
    "model.add(LSTM(units=50, return_sequences=True, input_shape=(x_train.shape[1],1)))\n",
    "model.add(LSTM(units=50))\n",
    "model.add(Dense(1))\n",
    "\n",
    "model.compile(loss='mean_squared_error', optimizer='adam')\n",
    "model.fit(x_train, y_train, epochs=10, batch_size=1, verbose=2)"
   ]
  },
  {
   "cell_type": "code",
   "execution_count": null,
   "metadata": {},
   "outputs": [],
   "source": [
    "#predicting 246 values, using past 60 from the train data\n",
    "inputs = new_data[len(new_data) - len(valid) - 60:].values\n",
    "inputs = inputs.reshape(-inputs.shape[1],inputs.shape[1])\n",
    "inputs  = scaler.transform(inputs)\n",
    "\n",
    "X_test = []\n",
    "for i in range(60,inputs.shape[0]):\n",
    "    X_test.append(inputs[i-60:i,0])\n",
    "X_test = np.array(X_test)\n",
    "\n",
    "X_test = X_test.reshape(X_test.shape[0],X_test.shape[1],1)\n",
    "closing_price = model.predict(X_test)\n",
    "\n",
    "# invert scaling for forecast\n",
    "inv_yhat = np.concatenate((closing_price,X_test[:,-2]), axis=1)\n",
    "closing_price = scaler.inverse_transform(inv_yhat)"
   ]
  },
  {
   "cell_type": "code",
   "execution_count": null,
   "metadata": {},
   "outputs": [],
   "source": [
    "lstm_sma_bin_rms=np.sqrt(np.mean(np.power((valid-closing_price),2)))\n",
    "lstm_sma_bin_rms"
   ]
  },
  {
   "cell_type": "code",
   "execution_count": null,
   "metadata": {},
   "outputs": [],
   "source": [
    "#for plotting\n",
    "train = new_data[:750]\n",
    "valid = new_data[750:]\n",
    "valid['Predictions'] = closing_price[:,0]\n",
    "plt.plot(train['Close'])\n",
    "plt.plot(valid[['Close','Predictions']])\n",
    "\n",
    "plt.legend(labels=['Training Price', 'Actual Price', 'Predicted Price'])"
   ]
  },
  {
   "cell_type": "markdown",
   "metadata": {},
   "source": [
    "# Bin EMA MultiVariate LSTM"
   ]
  },
  {
   "cell_type": "code",
   "execution_count": null,
   "metadata": {},
   "outputs": [],
   "source": [
    "bin_labels = [-1, -0.01, 0, 0.01, 1]\n",
    "\n",
    "dataset_train['bin'] = pd.qcut(dataset_train['ema'], q=5, labels=bin_labels)"
   ]
  },
  {
   "cell_type": "code",
   "execution_count": null,
   "metadata": {},
   "outputs": [],
   "source": [
    "#creating dataframe\n",
    "data = dataset_train.sort_index(ascending=True, axis=0)\n",
    "new_data = pd.DataFrame(index=range(0,len(dataset_train)),columns=['Date', 'Close', 'Bin'])\n",
    "for i in range(0,len(dataset_train)):\n",
    "    new_data['Date'][i] = dataset_train.index[i]\n",
    "    new_data['Close'][i] = dataset_train['close'][i]\n",
    "    new_data['Bin'][i] = dataset_train['bin'][i]\n",
    "\n",
    "#setting index\n",
    "new_data.index = new_data.Date\n",
    "new_data.drop('Date', axis=1, inplace=True)\n",
    "\n",
    "#creating train and test sets\n",
    "dataset = new_data.values\n",
    "\n",
    "train = dataset[0:750,:]\n",
    "valid = dataset[750:,:]\n",
    "\n",
    "#converting dataset into x_train and y_train\n",
    "scaler = MinMaxScaler(feature_range=(0, 1))\n",
    "scaled_data = scaler.fit_transform(dataset)\n",
    "\n",
    "x_train, y_train = [], []\n",
    "for i in range(60,len(train)):\n",
    "    x_train.append(scaled_data[i-60:i,0])\n",
    "    y_train.append(scaled_data[i,0])\n",
    "x_train, y_train = np.array(x_train), np.array(y_train)\n",
    "\n",
    "x_train = np.reshape(x_train, (x_train.shape[0],x_train.shape[1],1))\n",
    "\n",
    "# create and fit the LSTM network\n",
    "model = Sequential()\n",
    "model.add(LSTM(units=50, return_sequences=True, input_shape=(x_train.shape[1],1)))\n",
    "model.add(LSTM(units=50))\n",
    "model.add(Dense(1))\n",
    "\n",
    "model.compile(loss='mean_squared_error', optimizer='adam')\n",
    "model.fit(x_train, y_train, epochs=10, batch_size=1, verbose=2)"
   ]
  },
  {
   "cell_type": "code",
   "execution_count": null,
   "metadata": {},
   "outputs": [],
   "source": [
    "#predicting 246 values, using past 60 from the train data\n",
    "inputs = new_data[len(new_data) - len(valid) - 60:].values\n",
    "inputs = inputs.reshape(-inputs.shape[1],inputs.shape[1])\n",
    "inputs  = scaler.transform(inputs)\n",
    "\n",
    "X_test = []\n",
    "for i in range(60,inputs.shape[0]):\n",
    "    X_test.append(inputs[i-60:i,0])\n",
    "X_test = np.array(X_test)\n",
    "\n",
    "X_test = X_test.reshape(X_test.shape[0],X_test.shape[1],1)\n",
    "closing_price = model.predict(X_test)\n",
    "\n",
    "# invert scaling for forecast\n",
    "inv_yhat = np.concatenate((closing_price,X_test[:,-2]), axis=1)\n",
    "closing_price = scaler.inverse_transform(inv_yhat)"
   ]
  },
  {
   "cell_type": "code",
   "execution_count": null,
   "metadata": {},
   "outputs": [],
   "source": [
    "lstm_ema_bin_rms=np.sqrt(np.mean(np.power((valid-closing_price),2)))\n",
    "lstm_ema_bin_rms"
   ]
  },
  {
   "cell_type": "code",
   "execution_count": null,
   "metadata": {},
   "outputs": [],
   "source": [
    "#for plotting\n",
    "train = new_data[:750]\n",
    "valid = new_data[750:]\n",
    "valid['Predictions'] = closing_price[:,0]\n",
    "plt.plot(train['Close'])\n",
    "plt.plot(valid[['Close','Predictions']])\n",
    "\n",
    "plt.legend(labels=['Training Price', 'Actual Price', 'Predicted Price'])"
   ]
  },
  {
   "cell_type": "markdown",
   "metadata": {},
   "source": [
    "# Evaluation"
   ]
  },
  {
   "cell_type": "code",
   "execution_count": null,
   "metadata": {},
   "outputs": [],
   "source": [
    "# Create a Dataframe with the results.\n",
    "d = {'Classifiers': ['Linear Regression', 'KNN','Standard LSTM', 'LSTM with SMA', 'LSTM with Binned SMA', 'LSTM with EMA', 'LSTM with Binned EMA'], \n",
    "    'Root Mean Square': [lr_rms, knn_rms, lstm_rms, lstm_sma_rms, lstm_sma_bin_rms, lstm_ema_rms, lstm_ema_bin_rms]}\n",
    "\n",
    "result_df = pd.DataFrame(data=d)"
   ]
  },
  {
   "cell_type": "code",
   "execution_count": null,
   "metadata": {},
   "outputs": [],
   "source": [
    "print(result_df.sort_values(by='Root Mean Square', ascending=True))"
   ]
  },
  {
   "cell_type": "code",
   "execution_count": null,
   "metadata": {},
   "outputs": [],
   "source": []
  }
 ],
 "metadata": {
  "kernelspec": {
   "display_name": "Python 3",
   "language": "python",
   "name": "python3"
  },
  "language_info": {
   "codemirror_mode": {
    "name": "ipython",
    "version": 3
   },
   "file_extension": ".py",
   "mimetype": "text/x-python",
   "name": "python",
   "nbconvert_exporter": "python",
   "pygments_lexer": "ipython3",
   "version": "3.8.3"
  }
 },
 "nbformat": 4,
 "nbformat_minor": 4
}
