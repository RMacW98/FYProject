{
 "cells": [
  {
   "cell_type": "code",
   "execution_count": 85,
   "metadata": {},
   "outputs": [],
   "source": [
    "from newsapi import NewsApiClient\n",
    "import json\n",
    "import pandas as pd\n",
    "import numpy as np\n",
    "import re"
   ]
  },
  {
   "cell_type": "code",
   "execution_count": null,
   "metadata": {},
   "outputs": [],
   "source": [
    "    # /v2/everything\n",
    "    all_articles = newsapi.get_everything(q='bitcoin',\n",
    "                                          from_param='2021-01-01',\n",
    "                                          to='2021-01-12',\n",
    "                                          language='en',\n",
    "                                          sort_by='relevancy',\n",
    "                                          page=2)"
   ]
  },
  {
   "cell_type": "code",
   "execution_count": 65,
   "metadata": {},
   "outputs": [],
   "source": [
    "# # # # NEWS API AUTHENTICATER # # # #\n",
    "class NewsAuthenticator():\n",
    "\n",
    "    def authenticate_news_api(self):\n",
    "        auth = NewsApiClient(api_key='cc3f4e3191f149658f3922e9c47ec1ad')\n",
    "        return auth"
   ]
  },
  {
   "cell_type": "code",
   "execution_count": 83,
   "metadata": {},
   "outputs": [],
   "source": [
    "# # # # NEWS API STREAMER # # # #\n",
    "class ArticleStreamer():\n",
    "    \"\"\"\n",
    "    Class for streaming and processing articles daily\n",
    "    \"\"\"\n",
    "    def __init__(self):\n",
    "        self.news_authenticator = NewsAuthenticator()    \n",
    "\n",
    "    def stream_articles(self, query):\n",
    "        # This handles Twitter authetification and the connection to Twitter Streaming API\n",
    "        newsapi = self.news_authenticator.authenticate_news_api()\n",
    "        all_articles = newsapi.get_everything(q=query,\n",
    "                                          from_param='2021-01-01',\n",
    "                                          to='2021-01-12',\n",
    "                                          language='en',\n",
    "                                          sort_by='relevancy',\n",
    "                                          page=2)\n",
    "        \n",
    "        return all_articles"
   ]
  },
  {
   "cell_type": "code",
   "execution_count": 67,
   "metadata": {},
   "outputs": [],
   "source": [
    "class ArticleCleaner():\n",
    "    \"\"\"\n",
    "    Functionality for importing and cleaning news articles\n",
    "    \"\"\"\n",
    "    def import_json(self, fetched_json_file):\n",
    "        # Import json and normalize data\n",
    "        df = pd.read_json(fetched_json_file)\n",
    "        norm_articles = pd.json_normalize(df['articles'])\n",
    "        \n",
    "        return norm_articles\n",
    "\n",
    "    def clean_article(self, article):\n",
    "        return ' '.join(re.sub(\"(@[A-Za-z0-9]+)|([^0-9A-Za-z \\t])|(\\w+:\\/\\/\\S+)\", \" \", article).split())\n",
    "    \n",
    "    def create_article(self, articles):\n",
    "        article = articles[['author', 'title', 'description', 'url', 'source.name']]\n",
    "        outlet = articles[['source.id', 'source.name']]\n",
    "        \n",
    "        return article, outlet"
   ]
  },
  {
   "cell_type": "code",
   "execution_count": 43,
   "metadata": {},
   "outputs": [],
   "source": [
    "# /v2/top-headlines\n",
    "#top_headlines = newsapi.get_top_headlines(q='bitcoin',\n",
    "#                                          language='en',\n",
    "#                                          category='business',\n",
    "#                                          country='us')"
   ]
  },
  {
   "cell_type": "code",
   "execution_count": 44,
   "metadata": {},
   "outputs": [],
   "source": [
    "# /v2/sources\n",
    "#sources = newsapi.get_sources()"
   ]
  },
  {
   "cell_type": "code",
   "execution_count": 90,
   "metadata": {},
   "outputs": [
    {
     "name": "stderr",
     "output_type": "stream",
     "text": [
      "<ipython-input-90-42771a4f5946>:20: SettingWithCopyWarning: \n",
      "A value is trying to be set on a copy of a slice from a DataFrame.\n",
      "Try using .loc[row_indexer,col_indexer] = value instead\n",
      "\n",
      "See the caveats in the documentation: https://pandas.pydata.org/pandas-docs/stable/user_guide/indexing.html#returning-a-view-versus-a-copy\n",
      "  articles['clean_title'] = clean_title\n",
      "<ipython-input-90-42771a4f5946>:21: SettingWithCopyWarning: \n",
      "A value is trying to be set on a copy of a slice from a DataFrame.\n",
      "Try using .loc[row_indexer,col_indexer] = value instead\n",
      "\n",
      "See the caveats in the documentation: https://pandas.pydata.org/pandas-docs/stable/user_guide/indexing.html#returning-a-view-versus-a-copy\n",
      "  articles['clean_description'] = clean_desc\n"
     ]
    }
   ],
   "source": [
    "if __name__ == '__main__':\n",
    "    fetched_json_file = './news_articles.json'\n",
    "    query = 'bitcoin'\n",
    "    \n",
    "    article_cleaner = ArticleCleaner()\n",
    "    article_streamer = ArticleStreamer()\n",
    "    \n",
    "    #all_articles = article_streamer.stream_articles(query)\n",
    "    \n",
    "    # Export json\n",
    "    #with open(fetched_json_file, 'w') as f:\n",
    "    #    json.dump(all_articles, f)\n",
    "    \n",
    "    article_data = article_cleaner.import_json(fetched_json_file)\n",
    "    articles, outlets = article_cleaner.create_article(article_data)\n",
    "    \n",
    "    clean_title = np.array([article_cleaner.clean_article(article) for article in articles['title']])\n",
    "    clean_desc = np.array([article_cleaner.clean_article(article) for article in articles['description']])\n",
    "    \n",
    "    articles['clean_title'] = clean_title\n",
    "    articles['clean_description'] = clean_desc\n",
    "    \n",
    "    articles.to_csv(r'.\\cleaned_articles.csv', index=False)\n",
    "    outlets.to_csv(r'.\\outlets.csv', index=False)"
   ]
  },
  {
   "cell_type": "code",
   "execution_count": null,
   "metadata": {},
   "outputs": [],
   "source": []
  }
 ],
 "metadata": {
  "kernelspec": {
   "display_name": "Python 3",
   "language": "python",
   "name": "python3"
  },
  "language_info": {
   "codemirror_mode": {
    "name": "ipython",
    "version": 3
   },
   "file_extension": ".py",
   "mimetype": "text/x-python",
   "name": "python",
   "nbconvert_exporter": "python",
   "pygments_lexer": "ipython3",
   "version": "3.8.3"
  }
 },
 "nbformat": 4,
 "nbformat_minor": 4
}
