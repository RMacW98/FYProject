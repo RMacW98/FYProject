{
 "cells": [
  {
   "cell_type": "code",
   "execution_count": 102,
   "metadata": {},
   "outputs": [],
   "source": [
    "import re\n",
    "import csv\n",
    "from time import sleep\n",
    "import requests\n",
    "import json\n",
    "import pandas as pd\n",
    "import numpy as np\n",
    "import requests, bs4\n",
    "from bs4 import BeautifulSoup\n",
    "import datetime\n",
    "\n",
    "from nltk.sentiment.vader import SentimentIntensityAnalyzer\n",
    "from sklearn.metrics import confusion_matrix, classification_report, accuracy_score"
   ]
  },
  {
   "cell_type": "code",
   "execution_count": 103,
   "metadata": {},
   "outputs": [],
   "source": [
    "# # # # NEWS API STREAMER # # # #\n",
    "class ArticleStreamer():\n",
    "    \"\"\"\n",
    "    Class for streaming and processing articles daily\n",
    "    \"\"\"\n",
    "\n",
    "    def __init__(self):\n",
    "        pass\n",
    "\n",
    "    def get_article(self, card):\n",
    "        \"\"\"Extract article information from the raw html\"\"\"\n",
    "        headline = card.find('h4', 's-title').text\n",
    "        source = card.find(\"span\", 's-source').text\n",
    "        posted = card.find('span', 's-time').text.replace('·', '').strip()\n",
    "        description = card.find('p', 's-desc').text.strip()\n",
    "        raw_link = card.find('a').get('href')\n",
    "        unquoted_link = requests.utils.unquote(raw_link)\n",
    "        pattern = re.compile(r'RU=(.+)\\/RK')\n",
    "        clean_link = re.search(pattern, unquoted_link).group(1)\n",
    "\n",
    "        article = (headline, source, posted, description, clean_link)\n",
    "        return article\n",
    "\n",
    "    def get_the_news(self, query):\n",
    "        \"\"\"Run the main program\"\"\"\n",
    "        article_headers = ['title', 'outlet', 'uploaded', 'description', 'url']\n",
    "        \n",
    "        template = 'https://news.search.yahoo.com/search?p={}'\n",
    "        url = template.format(query)\n",
    "        articles = []\n",
    "        links = set()\n",
    "\n",
    "        while True:\n",
    "            response = requests.get(url, headers=headers)\n",
    "            soup = BeautifulSoup(response.text, 'html.parser')\n",
    "            cards = soup.find_all('div', 'NewsArticle')\n",
    "\n",
    "            # extract articles from page\n",
    "            for card in cards:\n",
    "                article = self.get_article(card)\n",
    "                link = article[-1]\n",
    "                if not link in links:\n",
    "                    links.add(link)\n",
    "                    articles.append(article)\n",
    "\n",
    "                    # find the next page\n",
    "            try:\n",
    "                url = soup.find('a', 'next').get('href')\n",
    "                sleep(1)\n",
    "            except AttributeError:\n",
    "                break\n",
    "        \n",
    "        all_articles = pd.DataFrame(articles, columns = article_headers)\n",
    "\n",
    "        #for article in all_articles:\n",
    "        #    if article.uploaded\n",
    "        \n",
    "        return all_articles"
   ]
  },
  {
   "cell_type": "code",
   "execution_count": 108,
   "metadata": {},
   "outputs": [],
   "source": [
    "class ArticleCleaner():\n",
    "    \"\"\"\n",
    "    Functionality for importing and cleaning news articles\n",
    "    \"\"\"\n",
    "\n",
    "    def import_json(self, fetched_json_file):\n",
    "        # Import json and normalize data\n",
    "        df = pd.read_json(fetched_json_file)\n",
    "        norm_articles = pd.json_normalize(df['articles'])\n",
    "\n",
    "        return norm_articles\n",
    "\n",
    "    def clean_article(self, article):\n",
    "        return ' '.join(re.sub(\"(@[A-Za-z0-9]+)|([^0-9A-Za-z \\t])|(\\w+:\\/\\/\\S+)\", \" \", article).split())\n",
    "\n",
    "    def create_article(self, articles):\n",
    "        article = articles[['author', 'title', 'description', 'url', 'source.name', 'publishedAt']]\n",
    "        outlet = articles[['source.id', 'source.name']]\n",
    "\n",
    "        return article, outlet\n",
    "    \n",
    "    def get_recent_articles(self, all_articles):\n",
    "        recent_articles = pd.DataFrame()\n",
    "\n",
    "        for index, row in all_articles.iterrows():\n",
    "            if 'hour' in row.uploaded:\n",
    "                recent_articles = recent_articles.append(row)\n",
    "\n",
    "            if 'minute' in row.uploaded:\n",
    "                recent_articles = recent_articles.append(row)\n",
    "\n",
    "            if 'second' in row.uploaded:\n",
    "                recent_articles = recent_articles.append(row)\n",
    "        \n",
    "        recent_articles['date'] = pd.Timestamp.now().normalize()\n",
    "\n",
    "        return recent_articles"
   ]
  },
  {
   "cell_type": "code",
   "execution_count": 277,
   "metadata": {},
   "outputs": [],
   "source": [
    "class SentimentAnalyzer():\n",
    "    \"\"\"\n",
    "    Functionality for analyzing headlines sentiment\n",
    "    \"\"\"\n",
    "    def __init__(self):\n",
    "        self.data = pd.read_csv('./datasets/headlines_labelled.txt',\n",
    "                        sep='\\t', header= None)\n",
    "        \n",
    "        # New words and values\n",
    "        self.new_words = {\n",
    "            'crushes': 10,\n",
    "            'beats': 5,\n",
    "            'misses': -5,\n",
    "            'trouble': -10,\n",
    "            'falls': -100,\n",
    "            'slides': -50,\n",
    "            'slide': -50,\n",
    "            'record high': 15,\n",
    "            'low': -15,\n",
    "            'one week low': -30,\n",
    "            'worth more': 5,\n",
    "            'digital gold': 5,\n",
    "            'high': 15,\n",
    "            'cryptocurrency fund': 10,\n",
    "            'up': 5,\n",
    "            'soars': 70,\n",
    "            'rebound': 20,\n",
    "            'pullback': -40,\n",
    "            'slumps': -60,\n",
    "            'jumps': 50,\n",
    "            'record low': -100,\n",
    "            'soaring': 70,\n",
    "            'bearish': -50,\n",
    "            'bullish': 50,\n",
    "            'bulls': 10,\n",
    "            'bears' : -10,\n",
    "            'hodl': 10,\n",
    "            'pulls back': -40,\n",
    "            'selloff': -70,\n",
    "            'retrace': -70,\n",
    "            'drop': -50,\n",
    "            'buying': 10,\n",
    "            'selling': -10,\n",
    "            'rally': 15,\n",
    "            'bounces': 20,\n",
    "            'testing support': -5,\n",
    "            'climb': 5,\n",
    "            'rise': 20,\n",
    "            'crashes': -100,\n",
    "            'crash': -100,\n",
    "            'downward': -30,\n",
    "            'plunges': -100,\n",
    "            'plunge' : -80,\n",
    "            'cardano': 0,\n",
    "            'descends': -30,\n",
    "            'descend': -30,\n",
    "            'gain' : 20,\n",
    "            'gains' : 20,\n",
    "            'worst' : -25,\n",
    "            'loss' : -15,\n",
    "            'without risk': 10,\n",
    "            'tumbles': -50\n",
    "        }\n",
    "        \n",
    "        \n",
    "    def reading_dataset(self):\n",
    "        columnName = ['Headlines','Sentiment']\n",
    "        self.data.columns = columnName\n",
    "        self.data.head()\n",
    "        \n",
    "        return self.data\n",
    "    \n",
    "    \n",
    "    def analyze_test_headlines(self):        \n",
    "        # Instantiate the sentiment intensity analyzer with the existing lexicon\n",
    "        vader = SentimentIntensityAnalyzer()\n",
    "        \n",
    "        # Update the lexicon\n",
    "        vader.lexicon.update(self.new_words)\n",
    "        \n",
    "        data = self.reading_dataset()\n",
    "        \n",
    "        # Iterate through the headlines and get the polarity scores\n",
    "        scores = data['Headlines'].apply(vader.polarity_scores)\n",
    "        \n",
    "        # Convert the list of dicts into a DataFrame\n",
    "        scores_df = pd.DataFrame.from_records(scores)\n",
    "\n",
    "        # Join the DataFrames\n",
    "        scored_news = data.join(scores_df)\n",
    "        \n",
    "        scored_news['assigned_label'] = scored_news['Sentiment'].apply(lambda Sentiment: 'pos' if Sentiment>0 else 'neg')\n",
    "        scored_news['predicted_label'] = scored_news['compound'].apply(lambda compound: 'pos' if compound>=0 else 'neg')\n",
    "        \n",
    "        return scored_news\n",
    "    \n",
    "    def analyze_recent_headlines(self, data):        \n",
    "        # Instantiate the sentiment intensity analyzer with the existing lexicon\n",
    "        vader = SentimentIntensityAnalyzer()\n",
    "        \n",
    "        # Update the lexicon\n",
    "        vader.lexicon.update(self.new_words)\n",
    "        \n",
    "        # Iterate through the headlines and get the polarity scores\n",
    "        scores = data['clean_title'].apply(vader.polarity_scores)\n",
    "        \n",
    "        # Convert the list of dicts into a DataFrame\n",
    "        scores_df = pd.DataFrame.from_records(scores)\n",
    "\n",
    "        # Join the DataFrames\n",
    "        data = data.reset_index()\n",
    "        scored_news = data.merge(scores_df,left_index=True, right_index=True, how='inner')\n",
    "        \n",
    "        scored_news['predicted_label'] = scored_news['compound'].apply(lambda compound: 'pos' if compound > 0 else ('neu' if compound == 0 else 'neg'))\n",
    "        \n",
    "        return scored_news"
   ]
  },
  {
   "cell_type": "code",
   "execution_count": 278,
   "metadata": {},
   "outputs": [],
   "source": [
    "class PriceStreamer():\n",
    "    \"\"\"\n",
    "    Functionality for constantly streaming BTC price\n",
    "    \"\"\"\n",
    "    def parse_price():\n",
    "        res = requests.get('https://finance.yahoo.com/quote/BTC-USD?p=BTC-USD&.tsrc=fin-srch')\n",
    "        soup = bs4.BeautifulSoup(res.text, 'lxml')\n",
    "\n",
    "        price = soup.find_all('span', class_='Trsdu(0.3s) Fw(b) Fz(36px) Mb(-4px) D(ib)')[0].text\n",
    "        price_change = soup.find_all('span', class_='Trsdu(0.3s) Fw(500) Pstart(10px) Fz(24px) C($positiveColor)')[0].text\n",
    "\n",
    "        return price, price_change"
   ]
  },
  {
   "cell_type": "code",
   "execution_count": 279,
   "metadata": {},
   "outputs": [],
   "source": [
    "if __name__ == '__main__':\n",
    "    query = 'cryptocurrency'\n",
    "    headers = {\n",
    "        'accept': '*/*',\n",
    "        'accept-encoding': 'gzip, deflate, br',\n",
    "        'accept-language': 'en-US,en;q=0.9',\n",
    "        'referer': 'https://www.google.com',\n",
    "        'user-agent': 'Mozilla/5.0 (Windows NT 10.0; Win64; x64) AppleWebKit/537.36 (KHTML, like Gecko) Chrome/85.0.4183.83 Safari/537.36 Edg/85.0.564.44'\n",
    "    }\n",
    "\n",
    "    article_cleaner = ArticleCleaner()\n",
    "    article_streamer = ArticleStreamer()\n",
    "    sentiment_analyzer = SentimentAnalyzer()\n",
    "\n",
    "    #all_articles = article_streamer.get_the_news(query)\n",
    "\n",
    "    #clean_title = np.array([article_cleaner.clean_article(article) for article in all_articles['title']])\n",
    "    #clean_desc = np.array([article_cleaner.clean_article(article) for article in all_articles['description']])\n",
    "\n",
    "    #all_articles['clean_title'] = clean_title\n",
    "    #all_articles['clean_description'] = clean_desc\n",
    "    \n",
    "    #all_articles.to_csv(r'.\\results.csv', index=False)\n",
    "    \n",
    "    recent_articles = article_cleaner.get_recent_articles(all_articles)\n",
    "    \n",
    "    scored_news = sentiment_analyzer.analyze_recent_headlines(recent_articles)\n",
    "\n",
    "    scored_news.to_csv(r'.\\sentiment.csv', index=False)"
   ]
  },
  {
   "cell_type": "code",
   "execution_count": 92,
   "metadata": {},
   "outputs": [
    {
     "data": {
      "text/plain": [
       "clean_description    41\n",
       "clean_title          41\n",
       "description          41\n",
       "outlet               41\n",
       "title                41\n",
       "uploaded             41\n",
       "url                  41\n",
       "neg                  41\n",
       "neu                  41\n",
       "pos                  41\n",
       "compound             41\n",
       "predicted_label      41\n",
       "dtype: int64"
      ]
     },
     "execution_count": 92,
     "metadata": {},
     "output_type": "execute_result"
    }
   ],
   "source": [
    "scored_news[(scored_news.predicted_label == 'neg') & (scored_news['compound'] < .5)].count()"
   ]
  },
  {
   "cell_type": "code",
   "execution_count": 93,
   "metadata": {},
   "outputs": [
    {
     "data": {
      "text/plain": [
       "clean_description    9\n",
       "clean_title          9\n",
       "description          9\n",
       "outlet               9\n",
       "title                9\n",
       "uploaded             9\n",
       "url                  9\n",
       "neg                  9\n",
       "neu                  9\n",
       "pos                  9\n",
       "compound             9\n",
       "predicted_label      9\n",
       "dtype: int64"
      ]
     },
     "execution_count": 93,
     "metadata": {},
     "output_type": "execute_result"
    }
   ],
   "source": [
    "scored_news[(scored_news.predicted_label == 'pos') & (scored_news['compound'] > .5)].count()"
   ]
  },
  {
   "cell_type": "code",
   "execution_count": 53,
   "metadata": {},
   "outputs": [
    {
     "data": {
      "text/plain": [
       "0.7385159010600707"
      ]
     },
     "execution_count": 53,
     "metadata": {},
     "output_type": "execute_result"
    }
   ],
   "source": [
    "accuracy_score(scored_news['assigned_label'],scored_news['predicted_label'])"
   ]
  },
  {
   "cell_type": "code",
   "execution_count": 54,
   "metadata": {},
   "outputs": [
    {
     "data": {
      "text/plain": [
       "array([[ 59,  49],\n",
       "       [ 25, 150]], dtype=int64)"
      ]
     },
     "execution_count": 54,
     "metadata": {},
     "output_type": "execute_result"
    }
   ],
   "source": [
    "confusion_matrix(scored_news['assigned_label'],scored_news['predicted_label'])"
   ]
  },
  {
   "cell_type": "code",
   "execution_count": 55,
   "metadata": {},
   "outputs": [],
   "source": [
    "high_news = scored_news[(scored_news['compound'] > .5) | (scored_news['compound'] < -0.5)]"
   ]
  },
  {
   "cell_type": "code",
   "execution_count": 58,
   "metadata": {},
   "outputs": [
    {
     "data": {
      "text/plain": [
       "0.8518518518518519"
      ]
     },
     "execution_count": 58,
     "metadata": {},
     "output_type": "execute_result"
    }
   ],
   "source": [
    "accuracy_score(high_news['assigned_label'],high_news['predicted_label'])"
   ]
  },
  {
   "cell_type": "code",
   "execution_count": null,
   "metadata": {},
   "outputs": [],
   "source": []
  }
 ],
 "metadata": {
  "kernelspec": {
   "display_name": "Python 3",
   "language": "python",
   "name": "python3"
  },
  "language_info": {
   "codemirror_mode": {
    "name": "ipython",
    "version": 3
   },
   "file_extension": ".py",
   "mimetype": "text/x-python",
   "name": "python",
   "nbconvert_exporter": "python",
   "pygments_lexer": "ipython3",
   "version": "3.8.3"
  }
 },
 "nbformat": 4,
 "nbformat_minor": 4
}
