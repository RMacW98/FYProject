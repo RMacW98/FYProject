{
 "cells": [
  {
   "cell_type": "code",
   "execution_count": 1,
   "metadata": {},
   "outputs": [],
   "source": [
    "# Import modules and packages\n",
    "import numpy as np\n",
    "import pandas as pd\n",
    "import matplotlib.pyplot as plt\n",
    "import datetime as dt\n",
    "from datetime import datetime, timedelta\n",
    "import shrimpy\n",
    "import psycopg2\n",
    "from keras.callbacks import EarlyStopping, ReduceLROnPlateau, ModelCheckpoint, TensorBoard"
   ]
  },
  {
   "cell_type": "code",
   "execution_count": 2,
   "metadata": {},
   "outputs": [],
   "source": [
    "class DatabaseClient:\n",
    "    \"\"\"\n",
    "    Functionality for inserting and reading from the database\n",
    "    \"\"\"\n",
    "\n",
    "    def __init__(self):\n",
    "        # Connect to db\n",
    "        self.con = psycopg2.connect(\n",
    "            host='localhost',\n",
    "            database='postgres',\n",
    "            user='postgres',\n",
    "            password='postgres'\n",
    "        )\n",
    "        self.article_table = pd.DataFrame()\n",
    "\n",
    "    def read_db(self):\n",
    "        cur = self.con.cursor()\n",
    "\n",
    "        cur.execute(\"SELECT timestamp, comp_sentiment, sma, ema FROM sent_values WHERE timestamp > '2021-01-26 15:00:00'::timestamp;\")\n",
    "\n",
    "        rows = cur.fetchall()\n",
    "\n",
    "        self.article_table = pd.DataFrame(data=rows, columns=['timestamp','compound','sma','ema'])\n",
    "\n",
    "\n",
    "        return self.article_table"
   ]
  },
  {
   "cell_type": "code",
   "execution_count": 3,
   "metadata": {},
   "outputs": [],
   "source": [
    "database_client = DatabaseClient()\n",
    "df = database_client.read_db()\n",
    "df.index = df.timestamp"
   ]
  },
  {
   "cell_type": "code",
   "execution_count": 4,
   "metadata": {},
   "outputs": [
    {
     "name": "stderr",
     "output_type": "stream",
     "text": [
      "<ipython-input-4-5595f8aaaa01>:24: SettingWithCopyWarning: \n",
      "A value is trying to be set on a copy of a slice from a DataFrame.\n",
      "Try using .loc[row_indexer,col_indexer] = value instead\n",
      "\n",
      "See the caveats in the documentation: https://pandas.pydata.org/pandas-docs/stable/user_guide/indexing.html#returning-a-view-versus-a-copy\n",
      "  latest_prices['close'] = latest_prices['close'].astype('float64')\n"
     ]
    }
   ],
   "source": [
    "def get_latest_prices(trading_symbol):\n",
    "    public_key = '12326758a39a720e15d064cab3c1f0a9332d107de453bd41926bb3acd565059e'\n",
    "    secret_key = '6991cf4c9b518293429db0df6085d1731074bed8abccd7f0279a52fac5b0c1a8a2f6d28e11a50fbb1c6575d1407e637f9ad7c73fbddfa87c5d418fd58971f829'\n",
    "    \n",
    "    client = shrimpy.ShrimpyApiClient(public_key, secret_key)\n",
    "        \n",
    "    # get the candles for historical values\n",
    "    candles = client.get_candles(\n",
    "        'binance',  # exchange\n",
    "        trading_symbol,      # base_trading_symbol\n",
    "        'USDT',      # quote_trading_symbol\n",
    "        '1h'       # interval\n",
    "    )\n",
    "        \n",
    "    # Set the dataframe between these two dates\n",
    "    tomorrows_date = (datetime.today() - timedelta(hours=61)).strftime(\"%Y-%m-%d %H:00\")\n",
    "    starting_date = '2021-01-25 16:00:00'\n",
    "\n",
    "    # Put pulled cryptocurrency values into a dataframe and set dates\n",
    "    prices_df = pd.DataFrame(candles)\n",
    "    prices_df['time'] = pd.to_datetime(prices_df['time'], infer_datetime_format=True).dt.tz_localize(None)\n",
    "\n",
    "    latest_prices = prices_df[(prices_df['time'] > starting_date) & (prices_df['time'] <tomorrows_date)]\n",
    "    latest_prices['close'] = latest_prices['close'].astype('float64')\n",
    "\n",
    "    return latest_prices\n",
    "\n",
    "data = get_latest_prices('BTC')\n",
    "data.index = data.time"
   ]
  },
  {
   "cell_type": "markdown",
   "metadata": {},
   "source": [
    "# Data Preprocessing"
   ]
  },
  {
   "cell_type": "code",
   "execution_count": 5,
   "metadata": {},
   "outputs": [
    {
     "data": {
      "text/html": [
       "<div>\n",
       "<style scoped>\n",
       "    .dataframe tbody tr th:only-of-type {\n",
       "        vertical-align: middle;\n",
       "    }\n",
       "\n",
       "    .dataframe tbody tr th {\n",
       "        vertical-align: top;\n",
       "    }\n",
       "\n",
       "    .dataframe thead th {\n",
       "        text-align: right;\n",
       "    }\n",
       "</style>\n",
       "<table border=\"1\" class=\"dataframe\">\n",
       "  <thead>\n",
       "    <tr style=\"text-align: right;\">\n",
       "      <th></th>\n",
       "      <th>close</th>\n",
       "      <th>sma</th>\n",
       "      <th>ema</th>\n",
       "      <th>time</th>\n",
       "    </tr>\n",
       "  </thead>\n",
       "  <tbody>\n",
       "    <tr>\n",
       "      <th>2021-01-28 20:00:00</th>\n",
       "      <td>32577.96</td>\n",
       "      <td>0.3672</td>\n",
       "      <td>0.1767</td>\n",
       "      <td>2021-01-28 20:00:00</td>\n",
       "    </tr>\n",
       "    <tr>\n",
       "      <th>2021-01-28 21:00:00</th>\n",
       "      <td>33183.53</td>\n",
       "      <td>0.3453</td>\n",
       "      <td>0.1524</td>\n",
       "      <td>2021-01-28 21:00:00</td>\n",
       "    </tr>\n",
       "    <tr>\n",
       "      <th>2021-01-28 22:00:00</th>\n",
       "      <td>33469.67</td>\n",
       "      <td>0.3090</td>\n",
       "      <td>-0.0103</td>\n",
       "      <td>2021-01-28 22:00:00</td>\n",
       "    </tr>\n",
       "    <tr>\n",
       "      <th>2021-01-28 23:00:00</th>\n",
       "      <td>33364.86</td>\n",
       "      <td>0.2839</td>\n",
       "      <td>-0.1253</td>\n",
       "      <td>2021-01-28 23:00:00</td>\n",
       "    </tr>\n",
       "    <tr>\n",
       "      <th>2021-01-29 00:00:00</th>\n",
       "      <td>34150.23</td>\n",
       "      <td>0.2494</td>\n",
       "      <td>-0.2464</td>\n",
       "      <td>2021-01-29 00:00:00</td>\n",
       "    </tr>\n",
       "    <tr>\n",
       "      <th>...</th>\n",
       "      <td>...</td>\n",
       "      <td>...</td>\n",
       "      <td>...</td>\n",
       "      <td>...</td>\n",
       "    </tr>\n",
       "    <tr>\n",
       "      <th>2021-03-08 17:00:00</th>\n",
       "      <td>50809.04</td>\n",
       "      <td>0.5410</td>\n",
       "      <td>0.7425</td>\n",
       "      <td>2021-03-08 17:00:00</td>\n",
       "    </tr>\n",
       "    <tr>\n",
       "      <th>2021-03-08 18:00:00</th>\n",
       "      <td>50803.18</td>\n",
       "      <td>0.5410</td>\n",
       "      <td>0.7425</td>\n",
       "      <td>2021-03-08 18:00:00</td>\n",
       "    </tr>\n",
       "    <tr>\n",
       "      <th>2021-03-08 19:00:00</th>\n",
       "      <td>51310.82</td>\n",
       "      <td>0.5410</td>\n",
       "      <td>0.7425</td>\n",
       "      <td>2021-03-08 19:00:00</td>\n",
       "    </tr>\n",
       "    <tr>\n",
       "      <th>2021-03-08 20:00:00</th>\n",
       "      <td>51759.63</td>\n",
       "      <td>0.5410</td>\n",
       "      <td>0.7425</td>\n",
       "      <td>2021-03-08 20:00:00</td>\n",
       "    </tr>\n",
       "    <tr>\n",
       "      <th>2021-03-08 21:00:00</th>\n",
       "      <td>51848.33</td>\n",
       "      <td>0.6938</td>\n",
       "      <td>0.7425</td>\n",
       "      <td>2021-03-08 21:00:00</td>\n",
       "    </tr>\n",
       "  </tbody>\n",
       "</table>\n",
       "<p>864 rows × 4 columns</p>\n",
       "</div>"
      ],
      "text/plain": [
       "                        close     sma      ema                time\n",
       "2021-01-28 20:00:00  32577.96  0.3672   0.1767 2021-01-28 20:00:00\n",
       "2021-01-28 21:00:00  33183.53  0.3453   0.1524 2021-01-28 21:00:00\n",
       "2021-01-28 22:00:00  33469.67  0.3090  -0.0103 2021-01-28 22:00:00\n",
       "2021-01-28 23:00:00  33364.86  0.2839  -0.1253 2021-01-28 23:00:00\n",
       "2021-01-29 00:00:00  34150.23  0.2494  -0.2464 2021-01-29 00:00:00\n",
       "...                       ...     ...      ...                 ...\n",
       "2021-03-08 17:00:00  50809.04  0.5410   0.7425 2021-03-08 17:00:00\n",
       "2021-03-08 18:00:00  50803.18  0.5410   0.7425 2021-03-08 18:00:00\n",
       "2021-03-08 19:00:00  51310.82  0.5410   0.7425 2021-03-08 19:00:00\n",
       "2021-03-08 20:00:00  51759.63  0.5410   0.7425 2021-03-08 20:00:00\n",
       "2021-03-08 21:00:00  51848.33  0.6938   0.7425 2021-03-08 21:00:00\n",
       "\n",
       "[864 rows x 4 columns]"
      ]
     },
     "execution_count": 5,
     "metadata": {},
     "output_type": "execute_result"
    }
   ],
   "source": [
    "dataset_train = data.join(df, lsuffix=data.index, rsuffix=df.index)\n",
    "dataset_train = dataset_train.drop(columns=['open', 'high', 'low', 'volume', 'quoteVolume', 'btcVolume', 'usdVolume','time','timestamp','compound'])\n",
    "dataset_train = dataset_train.dropna()\n",
    "dataset_train['time'] = dataset_train.index\n",
    "dataset_train"
   ]
  },
  {
   "cell_type": "code",
   "execution_count": null,
   "metadata": {},
   "outputs": [],
   "source": []
  },
  {
   "cell_type": "markdown",
   "metadata": {},
   "source": [
    "# K Nearest Neighbour"
   ]
  },
  {
   "cell_type": "code",
   "execution_count": 6,
   "metadata": {},
   "outputs": [],
   "source": [
    "#importing libraries\n",
    "from sklearn import neighbors\n",
    "from sklearn.model_selection import GridSearchCV\n",
    "from sklearn.preprocessing import MinMaxScaler\n",
    "scaler = MinMaxScaler(feature_range=(0, 1))"
   ]
  },
  {
   "cell_type": "code",
   "execution_count": 7,
   "metadata": {},
   "outputs": [
    {
     "ename": "NameError",
     "evalue": "name 'x_train' is not defined",
     "output_type": "error",
     "traceback": [
      "\u001b[1;31m---------------------------------------------------------------------------\u001b[0m",
      "\u001b[1;31mNameError\u001b[0m                                 Traceback (most recent call last)",
      "\u001b[1;32m<ipython-input-7-284da2caacba>\u001b[0m in \u001b[0;36m<module>\u001b[1;34m\u001b[0m\n\u001b[0;32m      1\u001b[0m \u001b[1;31m#scaling data\u001b[0m\u001b[1;33m\u001b[0m\u001b[1;33m\u001b[0m\u001b[1;33m\u001b[0m\u001b[0m\n\u001b[1;32m----> 2\u001b[1;33m \u001b[0mx_train_scaled\u001b[0m \u001b[1;33m=\u001b[0m \u001b[0mscaler\u001b[0m\u001b[1;33m.\u001b[0m\u001b[0mfit_transform\u001b[0m\u001b[1;33m(\u001b[0m\u001b[0mx_train\u001b[0m\u001b[1;33m)\u001b[0m\u001b[1;33m\u001b[0m\u001b[1;33m\u001b[0m\u001b[0m\n\u001b[0m\u001b[0;32m      3\u001b[0m \u001b[0mx_train\u001b[0m \u001b[1;33m=\u001b[0m \u001b[0mpd\u001b[0m\u001b[1;33m.\u001b[0m\u001b[0mDataFrame\u001b[0m\u001b[1;33m(\u001b[0m\u001b[0mx_train_scaled\u001b[0m\u001b[1;33m)\u001b[0m\u001b[1;33m\u001b[0m\u001b[1;33m\u001b[0m\u001b[0m\n\u001b[0;32m      4\u001b[0m \u001b[0mx_valid_scaled\u001b[0m \u001b[1;33m=\u001b[0m \u001b[0mscaler\u001b[0m\u001b[1;33m.\u001b[0m\u001b[0mfit_transform\u001b[0m\u001b[1;33m(\u001b[0m\u001b[0mx_valid\u001b[0m\u001b[1;33m)\u001b[0m\u001b[1;33m\u001b[0m\u001b[1;33m\u001b[0m\u001b[0m\n\u001b[0;32m      5\u001b[0m \u001b[0mx_valid\u001b[0m \u001b[1;33m=\u001b[0m \u001b[0mpd\u001b[0m\u001b[1;33m.\u001b[0m\u001b[0mDataFrame\u001b[0m\u001b[1;33m(\u001b[0m\u001b[0mx_valid_scaled\u001b[0m\u001b[1;33m)\u001b[0m\u001b[1;33m\u001b[0m\u001b[1;33m\u001b[0m\u001b[0m\n",
      "\u001b[1;31mNameError\u001b[0m: name 'x_train' is not defined"
     ]
    }
   ],
   "source": [
    "#scaling data\n",
    "x_train_scaled = scaler.fit_transform(x_train)\n",
    "x_train = pd.DataFrame(x_train_scaled)\n",
    "x_valid_scaled = scaler.fit_transform(x_valid)\n",
    "x_valid = pd.DataFrame(x_valid_scaled)\n",
    "\n",
    "#using gridsearch to find the best parameter\n",
    "params = {'n_neighbors':[2,3,4,5,6,7,8,9]}\n",
    "knn = neighbors.KNeighborsRegressor()\n",
    "model = GridSearchCV(knn, params, cv=5)\n",
    "\n",
    "#fit the model and make predictions\n",
    "model.fit(x_train,y_train)\n",
    "preds = model.predict(x_valid)"
   ]
  },
  {
   "cell_type": "code",
   "execution_count": null,
   "metadata": {},
   "outputs": [],
   "source": []
  }
 ],
 "metadata": {
  "kernelspec": {
   "display_name": "Python 3",
   "language": "python",
   "name": "python3"
  },
  "language_info": {
   "codemirror_mode": {
    "name": "ipython",
    "version": 3
   },
   "file_extension": ".py",
   "mimetype": "text/x-python",
   "name": "python",
   "nbconvert_exporter": "python",
   "pygments_lexer": "ipython3",
   "version": "3.8.3"
  }
 },
 "nbformat": 4,
 "nbformat_minor": 4
}
