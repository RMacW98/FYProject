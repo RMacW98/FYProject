{
 "cells": [
  {
   "cell_type": "code",
   "execution_count": 64,
   "metadata": {},
   "outputs": [],
   "source": [
    "import datetime as dt\n",
    "from matplotlib import pyplot as plt\n",
    "from sklearn import model_selection\n",
    "from sklearn.metrics import confusion_matrix\n",
    "from sklearn.preprocessing import StandardScaler\n",
    "from sklearn.model_selection import train_test_split\n",
    "import numpy as np\n",
    "import pandas as pd\n",
    "from sklearn.preprocessing import MinMaxScaler\n",
    "from keras.models import Sequential\n",
    "from keras.layers import Dense\n",
    "from keras.layers import LSTM\n",
    "from keras.layers import Dropout\n",
    "\n",
    "# Import modules and packages\n",
    "import numpy as np\n",
    "import pandas as pd\n",
    "import matplotlib.pyplot as plt\n",
    "import datetime as dt\n",
    "from datetime import datetime, timedelta\n",
    "import shrimpy\n",
    "import psycopg2"
   ]
  },
  {
   "cell_type": "code",
   "execution_count": 65,
   "metadata": {},
   "outputs": [],
   "source": [
    "class DatabaseClient:\n",
    "    \"\"\"\n",
    "    Functionality for inserting and reading from the database\n",
    "    \"\"\"\n",
    "\n",
    "    def __init__(self):\n",
    "        # Connect to db\n",
    "        self.con = psycopg2.connect(\n",
    "            host='localhost',\n",
    "            database='postgres',\n",
    "            user='postgres',\n",
    "            password='postgres'\n",
    "        )\n",
    "        self.article_table = pd.DataFrame()\n",
    "\n",
    "    def read_db(self):\n",
    "        cur = self.con.cursor()\n",
    "\n",
    "        cur.execute(\"SELECT timestamp, comp_sentiment, sma, ema FROM sent_values WHERE timestamp > '2021-01-26 15:00:00'::timestamp;\")\n",
    "\n",
    "        rows = cur.fetchall()\n",
    "\n",
    "        self.article_table = pd.DataFrame(data=rows, columns=['timestamp','compound','sma','ema'])\n",
    "\n",
    "\n",
    "        return self.article_table"
   ]
  },
  {
   "cell_type": "code",
   "execution_count": 66,
   "metadata": {},
   "outputs": [],
   "source": [
    "def get_latest_prices(trading_symbol):\n",
    "    public_key = '12326758a39a720e15d064cab3c1f0a9332d107de453bd41926bb3acd565059e'\n",
    "    secret_key = '6991cf4c9b518293429db0df6085d1731074bed8abccd7f0279a52fac5b0c1a8a2f6d28e11a50fbb1c6575d1407e637f9ad7c73fbddfa87c5d418fd58971f829'\n",
    "    \n",
    "    client = shrimpy.ShrimpyApiClient(public_key, secret_key)\n",
    "        \n",
    "    # get the candles for historical values\n",
    "    candles = client.get_candles(\n",
    "        'binance',  # exchange\n",
    "        trading_symbol,      # base_trading_symbol\n",
    "        'USDT',      # quote_trading_symbol\n",
    "        '1h'       # interval\n",
    "    )\n",
    "        \n",
    "    # Set the dataframe between these two dates\n",
    "    tomorrows_date = (datetime.today() - timedelta(hours=1)).strftime(\"%Y-%m-%d %H:00\")\n",
    "    tomorrows_date = (datetime.today()).strftime(\"%Y-%m-%d %H:00\")\n",
    "    starting_date = '2021-01-25 02:00:00'\n",
    "\n",
    "    # Put pulled cryptocurrency values into a dataframe and set dates\n",
    "    prices_df = pd.DataFrame(candles)\n",
    "    prices_df['time'] = pd.to_datetime(prices_df['time'], infer_datetime_format=True).dt.tz_localize(None)\n",
    "\n",
    "    latest_prices = prices_df[(prices_df['time'] > starting_date) & (prices_df['time'] <tomorrows_date)]\n",
    "    latest_prices['close'] = latest_prices['close'].astype('float64')\n",
    "\n",
    "    return latest_prices"
   ]
  },
  {
   "cell_type": "code",
   "execution_count": 67,
   "metadata": {},
   "outputs": [
    {
     "name": "stderr",
     "output_type": "stream",
     "text": [
      "<ipython-input-66-b1d27c6bb073>:25: SettingWithCopyWarning: \n",
      "A value is trying to be set on a copy of a slice from a DataFrame.\n",
      "Try using .loc[row_indexer,col_indexer] = value instead\n",
      "\n",
      "See the caveats in the documentation: https://pandas.pydata.org/pandas-docs/stable/user_guide/indexing.html#returning-a-view-versus-a-copy\n",
      "  latest_prices['close'] = latest_prices['close'].astype('float64')\n"
     ]
    },
    {
     "data": {
      "text/plain": [
       "close    895\n",
       "sma      895\n",
       "dtype: int64"
      ]
     },
     "execution_count": 67,
     "metadata": {},
     "output_type": "execute_result"
    }
   ],
   "source": [
    "database_client = DatabaseClient()\n",
    "df = database_client.read_db()\n",
    "df.index = df.timestamp\n",
    "df = df.iloc[:-1]\n",
    "\n",
    "data = get_latest_prices('BTC')\n",
    "data.index = data.time\n",
    "data = data.iloc[:-4]\n",
    "\n",
    "dataset_train = data.join(df, lsuffix=data.index, rsuffix=df.index)\n",
    "\n",
    "dataset_train = dataset_train[['close', 'sma']]\n",
    "dataset_train = dataset_train.dropna()\n",
    "dataset_train = dataset_train.astype('float')"
   ]
  },
  {
   "cell_type": "code",
   "execution_count": 68,
   "metadata": {},
   "outputs": [],
   "source": [
    "#Data Preprocessing\n",
    "stk_data['Date'] = stk_data.index\n",
    "data2 = pd.DataFrame(columns = ['Date', 'Close'])\n",
    "data2['Date'] = stk_data['Date']\n",
    "data2['Close'] = stk_data['close']\n",
    "data2['SMA'] = stk_data['sma']\n",
    "\n",
    "train_set = data2.iloc[:650, 1:3].values\n",
    "valid_set = data2.iloc[650:, 1:3].values\n",
    "\n",
    "sc_train = MinMaxScaler(feature_range = (0, 1))\n",
    "training_set_scaled = sc_train.fit_transform(train_set)\n",
    "X_train = []\n",
    "y_train = []\n",
    "for i in range(60, len(train_set)):\n",
    "    X_train.append(training_set_scaled[i-60:i, 0])\n",
    "    y_train.append(training_set_scaled[i, 0]) \n",
    "X_train, y_train = np.array(X_train), np.array(y_train)\n",
    "X_train = np.reshape(X_train, (X_train.shape[0], X_train.shape[1], 1))\n",
    "\n",
    "sc_valid = MinMaxScaler(feature_range = (0, 1))\n",
    "valid_set_scaled = sc_valid.fit_transform(valid_set)\n",
    "X_valid = []\n",
    "y_valid = []\n",
    "for i in range(60, len(valid_set)):\n",
    "    X_valid.append(valid_set_scaled[i-60:i, 0])\n",
    "    y_valid.append(valid_set_scaled[i, 0]) \n",
    "X_valid, y_valid = np.array(X_valid), np.array(y_valid)\n",
    "X_valid = np.reshape(X_valid, (X_valid.shape[0], X_valid.shape[1], 1))"
   ]
  },
  {
   "cell_type": "code",
   "execution_count": 111,
   "metadata": {},
   "outputs": [],
   "source": [
    "regressor = Sequential()\n",
    "regressor.add(LSTM(units = 50, return_sequences = True, input_shape = (X_train.shape[1], 1)))\n",
    "regressor.add(Dropout(0.2))\n",
    "regressor.add(LSTM(units = 50, return_sequences = True))\n",
    "regressor.add(Dropout(0.2))\n",
    "regressor.add(LSTM(units = 50, return_sequences = True))\n",
    "regressor.add(Dropout(0.2))\n",
    "regressor.add(LSTM(units = 50))\n",
    "regressor.add(Dropout(0.2))\n",
    "regressor.add(Dense(units = 1))"
   ]
  },
  {
   "cell_type": "code",
   "execution_count": 112,
   "metadata": {
    "scrolled": true
   },
   "outputs": [
    {
     "name": "stdout",
     "output_type": "stream",
     "text": [
      "19/19 [==============================] - 15s 387ms/step - loss: 0.1038 - val_loss: 0.0476\n",
      "\n",
      "Epoch 00001: val_loss improved from inf to 0.04758, saving model to weights.h5\n"
     ]
    }
   ],
   "source": [
    "from keras.callbacks import EarlyStopping, ReduceLROnPlateau, ModelCheckpoint, TensorBoard\n",
    "\n",
    "#es = EarlyStopping(monitor='val_loss', min_delta=1e-10, patience=10, verbose=1)\n",
    "rlr = ReduceLROnPlateau(monitor='val_loss', factor=0.5, patience=10, verbose=1)\n",
    "mcp = ModelCheckpoint(filepath='weights.h5', monitor='val_loss', verbose=1, save_best_only=True, save_weights_only=True)\n",
    "\n",
    "#tb = TensorBoard('logs')\n",
    "\n",
    "regressor.compile(optimizer = 'adam', loss = 'mean_squared_error')\n",
    "history = regressor.fit(X_train, y_train, epochs = 1, callbacks=[rlr, mcp], validation_data=(X_valid, y_valid), batch_size = 32)"
   ]
  },
  {
   "cell_type": "code",
   "execution_count": 113,
   "metadata": {},
   "outputs": [
    {
     "data": {
      "image/png": "[encoded data removed]",
      "text/plain": [
       "<Figure size 432x288 with 1 Axes>"
      ]
     },
     "metadata": {
      "needs_background": "light"
     },
     "output_type": "display_data"
    }
   ],
   "source": [
    "from matplotlib import pyplot\n",
    "\n",
    "pyplot.plot(history.history['loss'])\n",
    "pyplot.plot(history.history['val_loss'])\n",
    "pyplot.title('model train vs validation loss')\n",
    "pyplot.ylabel('loss')\n",
    "pyplot.xlabel('epoch')\n",
    "pyplot.legend(['train', 'validation'], loc='upper right')\n",
    "pyplot.show()"
   ]
  },
  {
   "cell_type": "code",
   "execution_count": 114,
   "metadata": {},
   "outputs": [],
   "source": [
    "#predicting 246 values, using past 60 from the train data\n",
    "inputs = data2.iloc[len(data2) - len(valid_set) - 60:,1:3].values\n",
    "inputs = inputs.reshape(-inputs.shape[1],inputs.shape[1])\n",
    "inputs  = sc_valid.transform(inputs)"
   ]
  },
  {
   "cell_type": "code",
   "execution_count": 115,
   "metadata": {},
   "outputs": [],
   "source": [
    "X_test = []\n",
    "for i in range(60,inputs.shape[0]):\n",
    "    X_test.append(inputs[i-60:i,0])\n",
    "X_test = np.array(X_test)"
   ]
  },
  {
   "cell_type": "code",
   "execution_count": 116,
   "metadata": {},
   "outputs": [],
   "source": [
    "X_test = np.reshape(X_test, (X_test.shape[0],X_test.shape[1],1))\n",
    "closing_price = regressor.predict(X_test)\n",
    "\n",
    "# invert scaling for forecast\n",
    "inv_yhat = np.concatenate((closing_price,X_test[:,-1]), axis=1)\n",
    "closing_price = sc_valid.inverse_transform(inv_yhat)"
   ]
  },
  {
   "cell_type": "code",
   "execution_count": 117,
   "metadata": {},
   "outputs": [
    {
     "data": {
      "text/plain": [
       "1091.665348840842"
      ]
     },
     "execution_count": 117,
     "metadata": {},
     "output_type": "execute_result"
    }
   ],
   "source": [
    "lstm_sma_rms=np.sqrt(np.mean(np.power((valid_set-closing_price),2)))\n",
    "lstm_sma_rms"
   ]
  },
  {
   "cell_type": "code",
   "execution_count": 119,
   "metadata": {},
   "outputs": [
    {
     "name": "stderr",
     "output_type": "stream",
     "text": [
      "<ipython-input-119-7c7b03ae928d>:4: SettingWithCopyWarning: \n",
      "A value is trying to be set on a copy of a slice from a DataFrame.\n",
      "Try using .loc[row_indexer,col_indexer] = value instead\n",
      "\n",
      "See the caveats in the documentation: https://pandas.pydata.org/pandas-docs/stable/user_guide/indexing.html#returning-a-view-versus-a-copy\n",
      "  valid['Predictions'] = closing_price[:,0]\n"
     ]
    },
    {
     "data": {
      "text/plain": [
       "<matplotlib.legend.Legend at 0x18fa912db50>"
      ]
     },
     "execution_count": 119,
     "metadata": {},
     "output_type": "execute_result"
    },
    {
     "data": {
      "image/png": "[encoded data removed]",
      "text/plain": [
       "<Figure size 432x288 with 1 Axes>"
      ]
     },
     "metadata": {
      "needs_background": "light"
     },
     "output_type": "display_data"
    }
   ],
   "source": [
    "#for plotting\n",
    "train = data2[:650]\n",
    "valid = data2[650:]\n",
    "valid['Predictions'] = closing_price[:,0]\n",
    "plt.plot(train['Close'])\n",
    "plt.plot(valid[['Close','Predictions']])\n",
    "plt.xticks(rotation=45)\n",
    "\n",
    "plt.legend(labels=['Training Price', 'Actual Price', 'Predicted Price'])"
   ]
  },
  {
   "cell_type": "code",
   "execution_count": null,
   "metadata": {},
   "outputs": [],
   "source": []
  }
 ],
 "metadata": {
  "kernelspec": {
   "display_name": "Python 3",
   "language": "python",
   "name": "python3"
  },
  "language_info": {
   "codemirror_mode": {
    "name": "ipython",
    "version": 3
   },
   "file_extension": ".py",
   "mimetype": "text/x-python",
   "name": "python",
   "nbconvert_exporter": "python",
   "pygments_lexer": "ipython3",
   "version": "3.8.3"
  }
 },
 "nbformat": 4,
 "nbformat_minor": 4
}
