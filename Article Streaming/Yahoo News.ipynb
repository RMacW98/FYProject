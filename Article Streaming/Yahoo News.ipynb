{
 "cells": [
  {
   "cell_type": "code",
   "execution_count": 15,
   "metadata": {},
   "outputs": [],
   "source": [
    "import re\n",
    "import csv\n",
    "from time import sleep\n",
    "from bs4 import BeautifulSoup\n",
    "import requests\n",
    "\n",
    "headers = {\n",
    "    'accept': '*/*',\n",
    "    'accept-encoding': 'gzip, deflate, br',\n",
    "    'accept-language': 'en-US,en;q=0.9',\n",
    "    'referer': 'https://www.google.com',\n",
    "    'user-agent': 'Mozilla/5.0 (Windows NT 10.0; Win64; x64) AppleWebKit/537.36 (KHTML, like Gecko) Chrome/85.0.4183.83 Safari/537.36 Edg/85.0.564.44'\n",
    "}\n",
    "\n",
    "def get_article(card):\n",
    "    \"\"\"Extract article information from the raw html\"\"\"\n",
    "    headline = card.find('h4', 's-title').text\n",
    "    source = card.find(\"span\", 's-source').text\n",
    "    posted = card.find('span', 's-time').text.replace('·', '').strip()\n",
    "    description = card.find('p', 's-desc').text.strip()\n",
    "    raw_link = card.find('a').get('href')\n",
    "    unquoted_link = requests.utils.unquote(raw_link)\n",
    "    pattern = re.compile(r'RU=(.+)\\/RK')\n",
    "    clean_link = re.search(pattern, unquoted_link).group(1)\n",
    "    \n",
    "    article = (headline, source, posted, description, clean_link)\n",
    "    return article\n",
    "\n",
    "def get_the_news(search):\n",
    "    \"\"\"Run the main program\"\"\"\n",
    "    template = 'https://news.search.yahoo.com/search?p={}'\n",
    "    url = template.format(search)\n",
    "    articles = []\n",
    "    links = set()\n",
    "    \n",
    "    while True:\n",
    "        response = requests.get(url, headers=headers)\n",
    "        soup = BeautifulSoup(response.text, 'html.parser')\n",
    "        cards = soup.find_all('div', 'NewsArticle')\n",
    "        \n",
    "        # extract articles from page\n",
    "        for card in cards:\n",
    "            article = get_article(card)\n",
    "            link = article[-1]\n",
    "            if not link in links:\n",
    "                links.add(link)\n",
    "                articles.append(article)        \n",
    "                \n",
    "        # find the next page\n",
    "        try:\n",
    "            url = soup.find('a', 'next').get('href')\n",
    "            sleep(1)\n",
    "        except AttributeError:\n",
    "            break\n",
    "            \n",
    "    # save article data\n",
    "    with open('results.csv', 'w', newline='', encoding='utf-8') as f:\n",
    "        writer = csv.writer(f)\n",
    "        writer.writerow(['Headline', 'Source', 'Posted', 'Description', 'Link'])\n",
    "        writer.writerows(articles)\n",
    "        \n",
    "    return articles"
   ]
  },
  {
   "cell_type": "code",
   "execution_count": 12,
   "metadata": {},
   "outputs": [],
   "source": [
    "# run the main program\n",
    "articles = get_the_news('cryptocurrency')"
   ]
  },
  {
   "cell_type": "code",
   "execution_count": 13,
   "metadata": {},
   "outputs": [
    {
     "data": {
      "text/plain": [
       "[('First Mover: Ether Steals Limelight With New All-Time High Price as Bitcoiners HODL',\n",
       "  'CoinDesk via Yahoo Finance',\n",
       "  '1 hour ago',\n",
       "  '“This period of consolidation is building a solid base, giving those who wish to sell bitcoin plenty...',\n",
       "  'https://finance.yahoo.com/news/first-mover-ether-steals-limelight-140758906.html'),\n",
       " ('Bitcoin’s Turbulence Helps Kindle Rally in Largest Rival Ether',\n",
       "  'Bloomberg via Yahoo Finance',\n",
       "  '2 hours ago',\n",
       "  'The world’s largest cryptocurrency hovered around $37,000 on Tuesday after major gyrations earlier...',\n",
       "  'https://finance.yahoo.com/news/bitcoin-turbulence-helps-kindle-rally-071510093.html'),\n",
       " ('Thieves Grab $451K in Cash From Hong Kong Crypto Trader',\n",
       "  'CoinDesk via Yahoo Finance',\n",
       "  '1 hour ago',\n",
       "  'Hong Kong police are searching for robbers who lured a female cryptocurrency trader into an office...',\n",
       "  'https://finance.yahoo.com/news/thieves-grab-451k-cash-hong-140008895.html'),\n",
       " ('Bitcoin Steady as Analysts Say Getting Back to $40,000 Is Key',\n",
       "  'Bloomberg via Yahoo Finance',\n",
       "  '19 hours ago',\n",
       "  'Bitcoin hovered near $36,000 on Monday, below a level that strategists at JPMorgan Chase & Co. see...',\n",
       "  'https://finance.yahoo.com/news/bitcoin-retreats-40-000-level-113652043.html')]"
      ]
     },
     "execution_count": 13,
     "metadata": {},
     "output_type": "execute_result"
    }
   ],
   "source": [
    "# show the first 4 records\n",
    "articles[0:4]"
   ]
  },
  {
   "cell_type": "code",
   "execution_count": null,
   "metadata": {},
   "outputs": [],
   "source": []
  }
 ],
 "metadata": {
  "kernelspec": {
   "display_name": "Python 3",
   "language": "python",
   "name": "python3"
  },
  "language_info": {
   "codemirror_mode": {
    "name": "ipython",
    "version": 3
   },
   "file_extension": ".py",
   "mimetype": "text/x-python",
   "name": "python",
   "nbconvert_exporter": "python",
   "pygments_lexer": "ipython3",
   "version": "3.8.3"
  }
 },
 "nbformat": 4,
 "nbformat_minor": 4
}
