{
 "cells": [
  {
   "cell_type": "code",
   "execution_count": 90,
   "metadata": {},
   "outputs": [],
   "source": [
    "import psycopg2\n",
    "import pandas as pd\n",
    "from newsapi import NewsApiClient\n",
    "# Create your views here.\n",
    "top_headlines = pd.DataFrame(columns=['title', 'desc', 'outlet', 'img', 'url', 'publishedAt'])\n",
    "\n",
    "def index():\n",
    "    newsapi = NewsApiClient(api_key='cc3f4e3191f149658f3922e9c47ec1ad')\n",
    "    headlines = newsapi.get_top_headlines(q='bitcoin',\n",
    "                         category='business',\n",
    "                         language='en')\n",
    "    articles = headlines['articles']\n",
    "    source = []\n",
    "    desc = []\n",
    "    news = []\n",
    "    img = []\n",
    "    url = []\n",
    "    published = []\n",
    "\n",
    "    for i in range(len(articles)):\n",
    "        article = articles[i]\n",
    "        source.append(article['source']['name'])\n",
    "        desc.append(article['description'])\n",
    "        news.append(article['title'])\n",
    "        img.append(article['urlToImage'])\n",
    "        url.append(article['url'])\n",
    "        published.append(article['publishedAt'])\n",
    "        \n",
    "    top_headlines['title'] = news\n",
    "    top_headlines['desc'] = desc\n",
    "    top_headlines['outlet'] = source\n",
    "    top_headlines['img'] = img\n",
    "    top_headlines['url'] = url\n",
    "    top_headlines['publishedAt'] = published\n",
    "    \n",
    "    top_headlines['title'] = top_headlines['title'].str.replace(\"'\", \"\\''\")\n",
    "    top_headlines['desc'] = top_headlines['desc'].str.replace(\"'\", \"\\''\")\n",
    "    \n",
    "    top_headlines['publishedAt'] = pd.to_datetime(top_headlines['publishedAt']).dt.strftime('%Y-%m-%d %H:%M')\n",
    "    \n",
    "    \n",
    "    return top_headlines"
   ]
  },
  {
   "cell_type": "code",
   "execution_count": 86,
   "metadata": {},
   "outputs": [],
   "source": [
    "class DatabaseClient:\n",
    "    \"\"\"\n",
    "    Functionality for inserting and reading from the database\n",
    "    \"\"\"\n",
    "\n",
    "    def __init__(self):\n",
    "        # Connect to db\n",
    "        self.con = psycopg2.connect(\n",
    "            host='localhost',\n",
    "            database='postgres',\n",
    "            user='postgres',\n",
    "            password='postgres'\n",
    "        )\n",
    "        self.article_table = pd.DataFrame()\n",
    "\n",
    "\n",
    "    def insert_db(self, df):\n",
    "        cur = self.con.cursor()\n",
    "        \n",
    "\n",
    "        for i in range(len(df)):\n",
    "            cur.execute(\n",
    "                'INSERT INTO \"newsApp_article\" (title, description, pic, url, date_posted, outlet)'\n",
    "                f\" VALUES ('{df['title'][i]}','{df['desc'][i]}','{df['img'][i]}','{df['url'][i]}','{df['publishedAt'][i]}'::timestamp,'{df['outlet'][i]}');\")\n",
    "\n",
    "        self.con.commit()\n",
    "\n",
    "        self.con.close()\n"
   ]
  },
  {
   "cell_type": "code",
   "execution_count": 91,
   "metadata": {},
   "outputs": [],
   "source": [
    "if __name__ == \"__main__\":\n",
    "    database_client = DatabaseClient()\n",
    "\n",
    "    top_stories = index()\n",
    "    database_client.insert_db(top_stories)"
   ]
  },
  {
   "cell_type": "code",
   "execution_count": null,
   "metadata": {},
   "outputs": [],
   "source": []
  }
 ],
 "metadata": {
  "kernelspec": {
   "display_name": "Python 3",
   "language": "python",
   "name": "python3"
  },
  "language_info": {
   "codemirror_mode": {
    "name": "ipython",
    "version": 3
   },
   "file_extension": ".py",
   "mimetype": "text/x-python",
   "name": "python",
   "nbconvert_exporter": "python",
   "pygments_lexer": "ipython3",
   "version": "3.8.3"
  }
 },
 "nbformat": 4,
 "nbformat_minor": 4
}
