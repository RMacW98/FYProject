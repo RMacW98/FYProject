{
 "cells": [
  {
   "cell_type": "code",
   "execution_count": 29,
   "metadata": {},
   "outputs": [],
   "source": [
    "\"\"\"\n",
    "    Script to stream news articles and compare sentiment against cryptocurrency price\n",
    "    Author: Ross MacWilliam\n",
    "    Date: 01/02/2021\n",
    "\"\"\"\n",
    "\n",
    "import re\n",
    "import csv\n",
    "from time import sleep\n",
    "import requests\n",
    "import json\n",
    "import pandas as pd\n",
    "import numpy as np\n",
    "import requests\n",
    "import bs4\n",
    "import psycopg2\n",
    "from bs4 import BeautifulSoup\n",
    "from datetime import datetime, timedelta, date\n",
    "\n",
    "import pandas_datareader as pdr\n",
    "import matplotlib.pyplot as plt\n",
    "\n",
    "import shrimpy\n",
    "import plotly.graph_objects as go\n",
    "from newsapi import NewsApiClient\n",
    "from yahoofinancials import YahooFinancials\n",
    "from nltk.sentiment.vader import SentimentIntensityAnalyzer\n",
    "from sklearn.metrics import confusion_matrix, classification_report, accuracy_score"
   ]
  },
  {
   "cell_type": "code",
   "execution_count": 47,
   "metadata": {},
   "outputs": [],
   "source": [
    "class DatabaseClient:\n",
    "    \"\"\"\n",
    "    Functionality for inserting and reading from the database\n",
    "    \"\"\"\n",
    "\n",
    "    def __init__(self):\n",
    "        # Connect to db\n",
    "        self.con = psycopg2.connect(\n",
    "            host='localhost',\n",
    "            database='postgres',\n",
    "            user='postgres',\n",
    "            password='postgres'\n",
    "        )\n",
    "        self.article_table = pd.DataFrame()\n",
    "\n",
    "    def read_db(self):\n",
    "        cur = self.con.cursor()\n",
    "\n",
    "        cur.execute(\"SELECT full_date, hour, trading_symbol, comp_sentiment FROM sentiment_fact\"\n",
    "                    \" JOIN date_dim ON sentiment_fact.dateid = date_dim.dateid\"\n",
    "                    \" JOIN time_dim ON sentiment_fact.timeid = time_dim.timeid;\")\n",
    "\n",
    "        rows = cur.fetchall()\n",
    "\n",
    "        self.article_table = pd.DataFrame(data=rows, columns=['dateid', 'timeid', 'trading_symbol', 'compound'])\n",
    "\n",
    "\n",
    "        return self.article_table\n",
    "\n",
    "    def insert_db(self, df):\n",
    "        cur = self.con.cursor()\n",
    "\n",
    "        for i in range(len(df)):\n",
    "            cur.execute(f\"SELECT dateid FROM date_dim WHERE full_date = '{df.dateid[i]}'\")\n",
    "            dateid = cur.fetchall()\n",
    "\n",
    "            cur.execute(f\"SELECT timeid FROM time_dim WHERE hour = '{df.timeid[i]}'\")\n",
    "            timeid = cur.fetchall()\n",
    "            \n",
    "            cur.execute(\n",
    "                \"INSERT INTO ma_sentiment_dim (dateid, timeid, trading_symbol, comp_sentiment, sma, ema)\"\n",
    "                f\" VALUES ({dateid[0][0]}, {timeid[0][0]}, '{df['trading_symbol'][i]}', {df['compound'][i]}, {df['SMA'][i]}, {df['EWM'][i]});\")\n",
    "\n",
    "        self.con.commit()\n",
    "\n",
    "        self.con.close()\n"
   ]
  },
  {
   "cell_type": "code",
   "execution_count": 58,
   "metadata": {},
   "outputs": [],
   "source": [
    "class SentimentProcessor:\n",
    "    \"\"\"\n",
    "    Functionality for inserting and reading from the database\n",
    "    \"\"\"\n",
    "\n",
    "    def __init__(self):\n",
    "        pass\n",
    "    \n",
    "    def calculate_moving_averages(self, overall_headlines):\n",
    "        overall_headlines['datetime'] = pd.to_datetime(overall_headlines.dateid, infer_datetime_format=True) + df.timeid.astype('timedelta64[h]')\n",
    "\n",
    "        overall_headlines.index =  pd.DatetimeIndex(overall_headlines['datetime'])\n",
    "        overall_headlines = overall_headlines.drop(['datetime'], axis=1)\n",
    "\n",
    "        # Remove duplicate columns\n",
    "        overall_headlines = overall_headlines[~overall_headlines.index.duplicated()]\n",
    "        \n",
    "        now = datetime.now().strftime('%Y-%m-%d %H:00:00')\n",
    "\n",
    "        overall_headlines = overall_headlines.asfreq('H', how=now)\n",
    "        \n",
    "        overall_headlines['SMA'] = overall_headlines.compound.rolling(window=48,min_periods=1).mean()\n",
    "        overall_headlines['EWM'] = overall_headlines.compound.ewm(span=14).mean()\n",
    "        overall_headlines['trading_symbol'] = 'BTC'\n",
    "        overall_headlines['timeid'] = overall_headlines.index.hour\n",
    "        overall_headlines['dateid'] = overall_headlines.index.strftime('%d/%m/%Y')\n",
    "        \n",
    "        overall_headlines.loc[(overall_headlines['compound'].isnull()), 'compound'] = 'NULL'\n",
    "        overall_headlines.loc[(overall_headlines['SMA'].isnull()), 'SMA'] = 'NULL'\n",
    "        overall_headlines.loc[(overall_headlines['EWM'].isnull()), 'EWM'] = 'NULL'\n",
    "        \n",
    "        return overall_headlines"
   ]
  },
  {
   "cell_type": "code",
   "execution_count": 119,
   "metadata": {},
   "outputs": [],
   "source": [
    "if __name__ == \"__main__\":\n",
    "    database_client = DatabaseClient()\n",
    "    df = database_client.read_db()\n",
    "\n",
    "    # Append current hour to end of dataframe\n",
    "    end = datetime.now()\n",
    "    df = df.append({'dateid':end.strftime('%d/%m/%Y'), 'timeid':end.hour, 'trading_symbol':'BTC', 'compound':None}, ignore_index=True)\n",
    "\n",
    "    sentiment_processor = SentimentProcessor()\n",
    "    headlines_df = sentiment_processor.calculate_moving_averages(df)\n",
    "\n",
    "    # Insert last value in the dataframe to database\n",
    "    database_client.insert_db(overall_headlines[-1])"
   ]
  },
  {
   "cell_type": "code",
   "execution_count": 124,
   "metadata": {},
   "outputs": [
    {
     "data": {
      "text/plain": [
       "dateid            08/03/2021\n",
       "timeid                    10\n",
       "trading_symbol           BTC\n",
       "compound                NULL\n",
       "SMA                 0.402967\n",
       "EWM                 0.794256\n",
       "Name: 2021-03-08 10:00:00, dtype: object"
      ]
     },
     "execution_count": 124,
     "metadata": {},
     "output_type": "execute_result"
    }
   ],
   "source": [
    "headlines_df.iloc[-1]"
   ]
  },
  {
   "cell_type": "code",
   "execution_count": null,
   "metadata": {},
   "outputs": [],
   "source": []
  }
 ],
 "metadata": {
  "kernelspec": {
   "display_name": "Python 3",
   "language": "python",
   "name": "python3"
  },
  "language_info": {
   "codemirror_mode": {
    "name": "ipython",
    "version": 3
   },
   "file_extension": ".py",
   "mimetype": "text/x-python",
   "name": "python",
   "nbconvert_exporter": "python",
   "pygments_lexer": "ipython3",
   "version": "3.8.3"
  }
 },
 "nbformat": 4,
 "nbformat_minor": 4
}
